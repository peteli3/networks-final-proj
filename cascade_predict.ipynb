{
 "cells": [
  {
   "cell_type": "code",
   "execution_count": 1,
   "metadata": {},
   "outputs": [],
   "source": [
    "import csv\n",
    "\n",
    "# dataset source\n",
    "# https://github.com/BenjaminDHorne/reddit-scraped-worldnews-dataset\n",
    "# https://github.com/linanqiu/reddit-dataset"
   ]
  },
  {
   "cell_type": "code",
   "execution_count": 9,
   "metadata": {},
   "outputs": [
    {
     "name": "stdout",
     "output_type": "stream",
     "text": [
      "num bad lines: 0\n"
     ]
    }
   ],
   "source": [
    "# read csv\n",
    "with open('dataset/worldnews_2012_scraped_metadata.csv') as file:\n",
    "    reader = csv.reader(file)\n",
    "    next(reader)\n",
    "    data = [line for line in reader]\n",
    "\n",
    "# csv data format: id, time, url, score, num_cmts\n",
    "print('num bad lines: {}'.format(len([line for line in data if '' in line])))"
   ]
  },
  {
   "cell_type": "code",
   "execution_count": 13,
   "metadata": {},
   "outputs": [
    {
     "name": "stdout",
     "output_type": "stream",
     "text": [
      "hiya\n",
      "1\n"
     ]
    }
   ],
   "source": [
    "# want: reply network (node btwn users who appear on same post)\n",
    "count = dict()\n",
    "for line in data:\n",
    "    if line[0] in count:\n",
    "        count[line[0]] += 1\n",
    "    else:\n",
    "        count[line[0]] = 1"
   ]
  },
  {
   "cell_type": "code",
   "execution_count": null,
   "metadata": {},
   "outputs": [],
   "source": []
  }
 ],
 "metadata": {
  "kernelspec": {
   "display_name": "Python 3",
   "language": "python",
   "name": "python3"
  },
  "language_info": {
   "codemirror_mode": {
    "name": "ipython",
    "version": 3
   },
   "file_extension": ".py",
   "mimetype": "text/x-python",
   "name": "python",
   "nbconvert_exporter": "python",
   "pygments_lexer": "ipython3",
   "version": "3.6.4"
  }
 },
 "nbformat": 4,
 "nbformat_minor": 2
}
