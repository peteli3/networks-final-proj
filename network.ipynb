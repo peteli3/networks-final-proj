{
 "cells": [
  {
   "cell_type": "code",
   "execution_count": 99,
   "metadata": {},
   "outputs": [],
   "source": [
    "import json\n",
    "import pprint\n",
    "from math import log\n",
    "\n",
    "# dataset source\n",
    "# https://files.pushshift.io/reddit/comments/\n",
    "pp = pprint.PrettyPrinter(indent=4)"
   ]
  },
  {
   "cell_type": "code",
   "execution_count": 100,
   "metadata": {},
   "outputs": [],
   "source": [
    "# access constants\n",
    "\n",
    "ID = 'id'\n",
    "BODY = 'body'\n",
    "SCORE = 'score'\n",
    "PARENT = 'parent_id'\n",
    "LINK = 'link_id'\n",
    "\n",
    "DATASET_FILE = 'reddit_2006jan.json'\n",
    "QUERY_SUBREDDIT = 'reddit.com'"
   ]
  },
  {
   "cell_type": "code",
   "execution_count": 101,
   "metadata": {},
   "outputs": [],
   "source": [
    "class Node(object):\n",
    "    def __init__(self, body, score, parent, link):\n",
    "        self.body = body\n",
    "        self.score = score\n",
    "        self.parent = parent\n",
    "        self.link = link"
   ]
  },
  {
   "cell_type": "code",
   "execution_count": 102,
   "metadata": {},
   "outputs": [],
   "source": [
    "# build dict of Node Objects by post id\n",
    "\n",
    "def build_nodes_set(data):\n",
    "    nodes = dict() # post_id: Node Object\n",
    "    for post in data:\n",
    "        nodes[post[ID]] = Node(post[BODY], post[SCORE], post[PARENT], post[LINK])\n",
    "    return nodes"
   ]
  },
  {
   "cell_type": "code",
   "execution_count": 103,
   "metadata": {},
   "outputs": [],
   "source": [
    "# build dict of post ids by link_id\n",
    "\n",
    "def build_threads_set(nodes):\n",
    "    threads = dict() # link_id: [post_ids]\n",
    "    for post_id in nodes.keys():\n",
    "        thread_id = nodes[post_id].link\n",
    "        if thread_id in threads.keys():\n",
    "            threads[thread_id].append(post_id)\n",
    "        else:\n",
    "            threads[thread_id] = [post_id]\n",
    "    return threads"
   ]
  },
  {
   "cell_type": "code",
   "execution_count": 104,
   "metadata": {},
   "outputs": [],
   "source": [
    "# builda dict of thread bodies by link_id\n",
    "\n",
    "def build_thread_bodies(threads, nodes):\n",
    "    thread_bodies = dict() # link_id: 'str w/ all comment text'\n",
    "    for link_id in threads.keys():\n",
    "        thread_bodies[link_id] = ''\n",
    "        comments = threads[link_id]\n",
    "        for post_id in comments:\n",
    "            thread_bodies[link_id] += nodes[post_id].body\n",
    "            thread_bodies[link_id] += ' '\n",
    "            \n",
    "        # PARSE RULES #\n",
    "        thread_bodies[link_id] = thread_bodies[link_id].strip()\n",
    "        thread_bodies[link_id] = thread_bodies[link_id].lower()\n",
    "        thread_bodies[link_id] = thread_bodies[link_id].replace('\\r\\n\\r\\n', ' ')\n",
    "        thread_bodies[link_id] = thread_bodies[link_id].replace('&gt;', '')\n",
    "        thread_bodies[link_id] = thread_bodies[link_id].replace('\\r', '')\n",
    "        thread_bodies[link_id] = thread_bodies[link_id].replace('\\n', '')\n",
    "    return thread_bodies"
   ]
  },
  {
   "cell_type": "code",
   "execution_count": 105,
   "metadata": {},
   "outputs": [
    {
     "name": "stdout",
     "output_type": "stream",
     "text": [
      "3664 results for query on subreddit: reddit.com\n",
      "\n",
      "0 entries without id\n",
      "0 entries without body\n",
      "0 entries without parent\n",
      "0 entries without link\n"
     ]
    }
   ],
   "source": [
    "# read dataset\n",
    "\n",
    "with open(DATASET_FILE) as file:\n",
    "    train_data = json.loads(file.read())\n",
    "\n",
    "# filter posts by subreddit\n",
    "\n",
    "train_data = [post for post in train_data if post['subreddit'] == QUERY_SUBREDDIT]\n",
    "print('{} results for query on subreddit: {}\\n'.format(len(train_data), QUERY_SUBREDDIT))\n",
    "\n",
    "# count up degenerate entries\n",
    "\n",
    "no_id = [post for post in train_data if not ID in post]\n",
    "print('{} entries without id'.format(len(no_id)))\n",
    "\n",
    "no_body = [post for post in train_data if not BODY in post]\n",
    "print('{} entries without body'.format(len(no_body)))\n",
    "\n",
    "no_parent = [post for post in train_data if not PARENT in post]\n",
    "print('{} entries without parent'.format(len(no_parent)))\n",
    "\n",
    "no_link = [post for post in train_data if not LINK in post]\n",
    "print('{} entries without link'.format(len(no_link)))"
   ]
  },
  {
   "cell_type": "code",
   "execution_count": 106,
   "metadata": {},
   "outputs": [],
   "source": [
    "from nltk.tokenize import RegexpTokenizer\n",
    "from nltk.stem.porter import PorterStemmer\n",
    "from gensim import corpora, models\n",
    "\n",
    "import numpy as np\n",
    "import time"
   ]
  },
  {
   "cell_type": "code",
   "execution_count": 107,
   "metadata": {},
   "outputs": [],
   "source": [
    "from sklearn.feature_extraction.text import TfidfVectorizer, CountVectorizer\n",
    "from sklearn.decomposition import LatentDirichletAllocation\n",
    "from sklearn.metrics.pairwise import cosine_distances\n",
    "from scipy import spatial"
   ]
  },
  {
   "cell_type": "code",
   "execution_count": 108,
   "metadata": {},
   "outputs": [],
   "source": [
    "def display_topics(model, feature_names, no_top_words):\n",
    "    for topic_idx, topic in enumerate(model.components_):\n",
    "        print('Topic {}:'.format(topic_idx))\n",
    "        print(' '.join([feature_names[i] for i in topic.argsort()[:-no_top_words - 1:-1]]))\n",
    "        print('')"
   ]
  },
  {
   "cell_type": "code",
   "execution_count": 109,
   "metadata": {},
   "outputs": [
    {
     "name": "stderr",
     "output_type": "stream",
     "text": [
      "/Users/Peterli/anaconda3/lib/python3.6/site-packages/sklearn/decomposition/online_lda.py:294: DeprecationWarning: n_topics has been renamed to n_components in version 0.19 and will be removed in 0.21\n",
      "  DeprecationWarning)\n"
     ]
    },
    {
     "name": "stdout",
     "output_type": "stream",
     "text": [
      "Topic 0:\n",
      "water free battery shower flow\n",
      "\n",
      "Topic 1:\n",
      "god religion believe evidence belief\n",
      "\n",
      "Topic 2:\n",
      "reddit just com http like\n",
      "\n",
      "Topic 3:\n",
      "market data prices corruption index\n",
      "\n",
      "Topic 4:\n",
      "google windows use vim emacs\n",
      "\n",
      "Topic 5:\n",
      "function factorial memory code lt\n",
      "\n",
      "Topic 6:\n",
      "music digital sales internet tv\n",
      "\n",
      "Topic 7:\n",
      "people think like don just\n",
      "\n",
      "Topic 8:\n",
      "issues security year service space\n",
      "\n",
      "Topic 9:\n",
      "deleted like just link video\n",
      "\n",
      "time elapsed: 5.3287553787231445 seconds\n"
     ]
    }
   ],
   "source": [
    "NUM_TOPICS = 10\n",
    "NUM_WORDS = 5\n",
    "PASSES = 20\n",
    "\n",
    "nodes = build_nodes_set(train_data)\n",
    "threads = build_threads_set(nodes)\n",
    "thread_bodies = build_thread_bodies(threads, nodes)\n",
    "\n",
    "# train LDA model\n",
    "\n",
    "start = time.time()\n",
    "\n",
    "train = list(thread_bodies.values())\n",
    "tf_vectorizer = CountVectorizer(max_df=0.95, min_df=2, max_features=1000, stop_words='english')\n",
    "tf_train = tf_vectorizer.fit_transform(train)\n",
    "tf_feature_names = tf_vectorizer.get_feature_names()\n",
    "\n",
    "lda = LatentDirichletAllocation(\n",
    "    n_topics=NUM_TOPICS, \n",
    "    max_iter=PASSES, \n",
    "    learning_method='online', \n",
    "    learning_offset=50., \n",
    "    random_state=0\n",
    ")\n",
    "lda.fit(tf_train)\n",
    "\n",
    "display_topics(lda, tf_feature_names, NUM_WORDS)\n",
    "\n",
    "end = time.time()\n",
    "\n",
    "print('time elapsed: {} seconds'.format(end - start))"
   ]
  },
  {
   "cell_type": "code",
   "execution_count": 110,
   "metadata": {},
   "outputs": [
    {
     "name": "stdout",
     "output_type": "stream",
     "text": [
      "array([[0.025     , 0.31385762, 0.34196666, 0.025     , 0.02500501,\n",
      "        0.16915414, 0.02500614, 0.02500984, 0.025     , 0.02500058],\n",
      "       [0.00370406, 0.07208172, 0.23357037, 0.00370384, 0.00370493,\n",
      "        0.00370451, 0.00370392, 0.52176405, 0.0037037 , 0.1503589 ],\n",
      "       [0.03333333, 0.03333839, 0.03333988, 0.03333345, 0.03333333,\n",
      "        0.03333333, 0.03333333, 0.69997918, 0.03333333, 0.03334243]])\n",
      "\n",
      "a look at vietnam and mexico exposes the myth of market liberalisation.\n",
      "\n",
      "the site states \"what can i use it for? meeting notes, reports, technical specs sign-up sheets, proposals and much more...\", just like any other new breeed of sites that want us to store everything we have on the web. and they even guarantee multiple levels of security and encryption etc. but what prevents these web site operators fom accessing and/or stealing meeting notes, reports, technical specs sign-up sheets, proposals and much more, for competitive or personal gains...? i am pretty sure that most of them are honest, but what's there to prevent me from setting up a good useful site and stealing all your data? call me paranoid - i am.\n",
      "\n",
      "jython related topics by frank wierzbicki\n",
      "\n",
      "\n",
      "array([[0.00357262, 0.00357242, 0.13583768, 0.00357143, 0.00357167,\n",
      "        0.00357264, 0.09731902, 0.74183567, 0.00357414, 0.0035727 ],\n",
      "       [0.00370525, 0.0037041 , 0.35281928, 0.0037037 , 0.0037043 ,\n",
      "        0.00370507, 0.0037037 , 0.6175458 , 0.0037037 , 0.0037051 ],\n",
      "       [0.01111578, 0.01111229, 0.54023484, 0.01111111, 0.12691952,\n",
      "        0.01111509, 0.01111653, 0.25505031, 0.01111111, 0.01111342]])\n",
      "\n",
      "this is a great reference to keep handy for all those times you hear someone name the aclu as part of the secular war on christianity. defending the right to sing \"awesome god\" at a talent show or the right to preach on a street corner in vegas are not exactly consistent with a conspiracy to destroy christianity. it would be nice if some of the entries had somre more details, or at least a link to the specific case, though. \"this is a great reference to keep handy for all those times you hear someone name the aclu as part of the secular war on christianity.\".... yeah, if you want to amuse others with your gullibility in buying these examples of cynically calculated \"exceptions to the rule\". the aclu is reprehensible.\n",
      "\n",
      "ugh, it's dynamically scoped. i haven't worked with dynamic scoping much, but i don't envy people trying to serious work in it. edit: yeah, yeah, the compiled version is lexically scoped, i should have read the next line. i don't think it is a good approach, though. from the docs: \"the main differences between lush and clush are as follows: ... * clush uses lexical scoping, while lush uses dynamic variable binding (if you don't know the difference, don't worry). \" so it is lexically scoped *if* you're using compiled lush, otherwise it's dynamically scoped\n",
      "\n",
      "the fur's flying between microsoft and ibm lotus execs over who's groupware is better. advantage: *you,* if you want to know where each group hides its best research, and how the other side debunks it.\n",
      "\n",
      "\n"
     ]
    }
   ],
   "source": [
    "# test prediction \n",
    "\n",
    "with open('reddit_2005dec.json') as file:\n",
    "    test_data = json.loads(file.read())\n",
    "\n",
    "nodes = build_nodes_set(test_data)\n",
    "threads = build_threads_set(nodes)\n",
    "thread_bodies = build_thread_bodies(threads, nodes)\n",
    "\n",
    "# comment_bodies = { node_id: node.body for (node_id, node) in nodes.items() }\n",
    "# test_set = list(comment_bodies.values())\n",
    "\n",
    "test_set = list(thread_bodies.values())\n",
    "tf_test = tf_vectorizer.fit_transform(test_set)\n",
    "predict = lda.transform(tf_test)\n",
    "\n",
    "pp.pprint(predict[:3])\n",
    "print('')\n",
    "print(test_set[0] + '\\n')\n",
    "print(test_set[1] + '\\n')\n",
    "print(test_set[2] + '\\n\\n')\n",
    "\n",
    "pp.pprint(predict[-3:])\n",
    "print('')\n",
    "print(test_set[-3] + '\\n')\n",
    "print(test_set[-2] + '\\n')\n",
    "print(test_set[-1] + '\\n\\n')"
   ]
  },
  {
   "cell_type": "code",
   "execution_count": 79,
   "metadata": {},
   "outputs": [
    {
     "name": "stdout",
     "output_type": "stream",
     "text": [
      "predictions available for 396 elements\n",
      "\n",
      "array([[0.025     , 0.77497845, 0.02500002, ..., 0.02500107, 0.02500544,\n",
      "        0.025     ],\n",
      "       [0.0037037 , 0.29676589, 0.00370486, ..., 0.23553685, 0.00370461,\n",
      "        0.00370375],\n",
      "       [0.03333333, 0.69998526, 0.03333458, ..., 0.03333889, 0.03333333,\n",
      "        0.03333333],\n",
      "       ...,\n",
      "       [0.00357143, 0.52714891, 0.0035721 , ..., 0.08041632, 0.0392883 ,\n",
      "        0.00357203],\n",
      "       [0.00333334, 0.38672229, 0.09025105, ..., 0.05966677, 0.0033351 ,\n",
      "        0.00333333],\n",
      "       [0.01111358, 0.53402213, 0.26597388, ..., 0.01111493, 0.01111196,\n",
      "        0.01111111]])\n"
     ]
    }
   ],
   "source": [
    "print('predictions available for {} elements\\n'.format(len(predict)))\n",
    "pp.pprint(predict)"
   ]
  },
  {
   "cell_type": "code",
   "execution_count": 80,
   "metadata": {},
   "outputs": [
    {
     "name": "stdout",
     "output_type": "stream",
     "text": [
      "time elapsed: 0.0059320926666259766 seconds\n"
     ]
    }
   ],
   "source": [
    "# Create matrix that stores cosine distances between predictions\n",
    "# We use this because we don't care about the length of the vectors\n",
    "start = time.time()\n",
    "\n",
    "cos_dist_matrix = cosine_distances(predict, predict)\n",
    "\n",
    "end = time.time()\n",
    "\n",
    "print('time elapsed: {} seconds'.format(end - start))"
   ]
  },
  {
   "cell_type": "code",
   "execution_count": 88,
   "metadata": {},
   "outputs": [
    {
     "name": "stdout",
     "output_type": "stream",
     "text": [
      "0.060865430159346014\n"
     ]
    }
   ],
   "source": [
    "# Calculate the distance threshold we should use\n",
    "# Currently std is really high and makes our graph very crowded\n",
    "# What is a good way to do this\n",
    "DIST_THRES = np.std(cos_dist_matrix) / 5\n",
    "print(DIST_THRES)"
   ]
  },
  {
   "cell_type": "code",
   "execution_count": 89,
   "metadata": {},
   "outputs": [
    {
     "name": "stdout",
     "output_type": "stream",
     "text": [
      "max distance seen: 0.9881559807706646\n",
      "0 mistakes out of 156816 entries\n"
     ]
    }
   ],
   "source": [
    "# ASSUMPTION: dict.keys() and dict.values() directly correspond if not modified\n",
    "# rehydrate node_ids into dist_matrix -> distance lookup table\n",
    "\n",
    "max_dist = float('-inf')\n",
    "\n",
    "dist_lookup = { node_id: {} for node_id in thread_bodies.keys() }\n",
    "for idx1, first in enumerate(list(dist_lookup.keys())):\n",
    "    for idx2, second in enumerate(list(dist_lookup.keys())):\n",
    "        dist_lookup[first][second] = 1 if cos_dist_matrix[idx1][idx2] <= DIST_THRES else 0\n",
    "        max_dist = cos_dist_matrix[idx1][idx2] if cos_dist_matrix[idx1][idx2] > max_dist else max_dist\n",
    "#         dist_lookup[first][second] = dist_matrix[idx1][idx2] # lazy eval\n",
    "\n",
    "# check\n",
    "\n",
    "mistakes = 0\n",
    "for i in dist_lookup.keys():\n",
    "    for j in dist_lookup.keys():\n",
    "        if i==j and dist_lookup[i][j] != 1:\n",
    "            mistakes += 1\n",
    "        if dist_lookup[i][j] != dist_lookup[j][i]:\n",
    "            mistakes += 1\n",
    "\n",
    "print('max distance seen: {}'.format(max_dist))\n",
    "print('{} mistakes out of {} entries'.format(mistakes, len(dist_lookup) * len(dist_lookup)))"
   ]
  },
  {
   "cell_type": "code",
   "execution_count": 90,
   "metadata": {},
   "outputs": [],
   "source": [
    "import networkx as nx\n",
    "import matplotlib.pyplot as plt\n",
    "\n",
    "g = nx.Graph()\n",
    "for thread_id in thread_bodies.keys():\n",
    "    g.add_node(thread_id)\n",
    "\n",
    "for first in thread_bodies.keys():\n",
    "    for second in thread_bodies.keys():\n",
    "        if not g.has_edge(first, second) and dist_lookup[first][second] == 1:\n",
    "            g.add_edge(first, second)\n"
   ]
  },
  {
   "cell_type": "code",
   "execution_count": 91,
   "metadata": {},
   "outputs": [
    {
     "name": "stdout",
     "output_type": "stream",
     "text": [
      "False\n",
      "Name: \n",
      "Type: Graph\n",
      "Number of nodes: 396\n",
      "Number of edges: 7793\n",
      "Average degree:  39.3586\n"
     ]
    }
   ],
   "source": [
    "print(nx.is_connected(g))\n",
    "degs = nx.degree_histogram(g)\n",
    "# plt.hist(degs, normed=True, bins=len(degs))\n",
    "# nx.density(g)\n",
    "print(nx.info(g))"
   ]
  },
  {
   "cell_type": "code",
   "execution_count": 92,
   "metadata": {},
   "outputs": [],
   "source": [
    "def save_and_show_visualization(g, file_name):\n",
    "    plt.figure(figsize=(18,18))\n",
    "    degrees = dict(nx.degree(g))\n",
    "    \n",
    "    # Draw networkx graph -- scale node size by log(degree+1)\n",
    "    nx.draw_spring(g, with_labels=False, \n",
    "                   linewidths=2.0,\n",
    "                   nodelist=degrees.keys(),\n",
    "                   node_size=[log(degree_val+1) * 100 for degree_val in degrees.values()], \\\n",
    "                   node_color='r')\n",
    "    \n",
    "    # Create black border around node shapes\n",
    "    ax = plt.gca()\n",
    "    ax.collections[0].set_edgecolor(\"#000000\")\n",
    "\n",
    "    # Save and show figure, then clear figure\n",
    "    plt.savefig(file_name)\n",
    "    plt.show()\n",
    "    plt.clf()"
   ]
  },
  {
   "cell_type": "code",
   "execution_count": 93,
   "metadata": {},
   "outputs": [
    {
     "data": {
      "image/png": "[encoded data removed]",
      "text/plain": [
       "<matplotlib.figure.Figure at 0x1168c1f28>"
      ]
     },
     "metadata": {},
     "output_type": "display_data"
    },
    {
     "data": {
      "text/plain": [
       "<matplotlib.figure.Figure at 0x116ac6550>"
      ]
     },
     "metadata": {},
     "output_type": "display_data"
    }
   ],
   "source": [
    "# visualize network\n",
    "save_and_show_visualization(g, \"test.pdf\")"
   ]
  },
  {
   "cell_type": "code",
   "execution_count": 98,
   "metadata": {},
   "outputs": [
    {
     "name": "stdout",
     "output_type": "stream",
     "text": [
      "[ 6.31441235e+01+0.00000000e+00j  5.89451118e+01+0.00000000e+00j\n",
      "  4.66495454e+01+0.00000000e+00j  3.01948015e+01+0.00000000e+00j\n",
      "  2.89578279e+01+0.00000000e+00j  1.95364419e+01+0.00000000e+00j\n",
      "  1.86657654e+01+0.00000000e+00j  1.51131489e+01+0.00000000e+00j\n",
      "  1.45541754e+01+0.00000000e+00j  1.40733703e+01+0.00000000e+00j\n",
      "  1.23122153e+01+0.00000000e+00j -1.05871145e+01+0.00000000e+00j\n",
      " -9.72390412e+00+0.00000000e+00j  1.01281867e+01+0.00000000e+00j\n",
      "  9.36631677e+00+0.00000000e+00j  1.10000000e+01+0.00000000e+00j\n",
      " -8.91058379e+00+0.00000000e+00j -8.24028786e+00+0.00000000e+00j\n",
      " -7.86300536e+00+0.00000000e+00j -7.00714446e+00+0.00000000e+00j\n",
      "  8.00000000e+00+0.00000000e+00j  6.98490219e+00+0.00000000e+00j\n",
      " -6.22111951e+00+0.00000000e+00j  6.71317539e+00+0.00000000e+00j\n",
      "  6.54642077e+00+0.00000000e+00j  6.16559563e+00+0.00000000e+00j\n",
      "  5.97168966e+00+0.00000000e+00j -5.63934491e+00+0.00000000e+00j\n",
      " -5.32785256e+00+0.00000000e+00j -5.11425692e+00+0.00000000e+00j\n",
      " -5.04330069e+00+0.00000000e+00j  5.40933904e+00+0.00000000e+00j\n",
      "  5.22971638e+00+0.00000000e+00j -4.59714206e+00+0.00000000e+00j\n",
      "  5.03852634e+00+0.00000000e+00j -4.32632423e+00+0.00000000e+00j\n",
      " -4.22614011e+00+0.00000000e+00j -4.13489322e+00+0.00000000e+00j\n",
      " -4.07666872e+00+0.00000000e+00j -4.01642876e+00+0.00000000e+00j\n",
      " -3.91137791e+00+0.00000000e+00j -3.64627165e+00+0.00000000e+00j\n",
      " -3.62114546e+00+0.00000000e+00j -3.46800675e+00+0.00000000e+00j\n",
      "  4.85168690e+00+0.00000000e+00j  4.67454181e+00+0.00000000e+00j\n",
      "  4.52270600e+00+0.00000000e+00j  4.43304461e+00+0.00000000e+00j\n",
      "  4.37184101e+00+0.00000000e+00j  4.23207078e+00+0.00000000e+00j\n",
      "  4.16277505e+00+0.00000000e+00j  3.93905468e+00+0.00000000e+00j\n",
      "  3.99523177e+00+0.00000000e+00j  4.03182872e+00+0.00000000e+00j\n",
      " -3.41132300e+00+0.00000000e+00j -3.27458513e+00+0.00000000e+00j\n",
      " -3.20836972e+00+0.00000000e+00j -3.14709862e+00+0.00000000e+00j\n",
      " -2.96707705e+00+0.00000000e+00j -2.89959418e+00+0.00000000e+00j\n",
      " -2.78271079e+00+0.00000000e+00j -2.82047766e+00+0.00000000e+00j\n",
      " -2.80657177e+00+0.00000000e+00j -2.64580963e+00+0.00000000e+00j\n",
      " -2.62354897e+00+0.00000000e+00j -2.54353512e+00+0.00000000e+00j\n",
      " -2.52247128e+00+0.00000000e+00j -2.45423762e+00+0.00000000e+00j\n",
      "  3.66868151e+00+0.00000000e+00j  3.60508999e+00+0.00000000e+00j\n",
      "  3.56410901e+00+0.00000000e+00j  3.52180187e+00+0.00000000e+00j\n",
      "  3.44373986e+00+0.00000000e+00j  3.41092674e+00+0.00000000e+00j\n",
      "  3.25241296e+00+0.00000000e+00j  3.18769365e+00+0.00000000e+00j\n",
      "  3.10266553e+00+0.00000000e+00j  3.05998363e+00+0.00000000e+00j\n",
      "  3.00354532e+00+0.00000000e+00j  2.97880594e+00+0.00000000e+00j\n",
      "  2.90335864e+00+0.00000000e+00j  2.92939134e+00+0.00000000e+00j\n",
      "  2.80157887e+00+0.00000000e+00j  2.79403349e+00+0.00000000e+00j\n",
      "  2.74691640e+00+0.00000000e+00j  2.69493099e+00+0.00000000e+00j\n",
      "  2.63992381e+00+0.00000000e+00j  2.61028370e+00+0.00000000e+00j\n",
      "  2.53450988e+00+0.00000000e+00j  2.45259393e+00+0.00000000e+00j\n",
      "  2.35909130e+00+0.00000000e+00j  2.33752177e+00+0.00000000e+00j\n",
      "  2.30857749e+00+0.00000000e+00j -2.41342607e+00+0.00000000e+00j\n",
      " -2.31372867e+00+0.00000000e+00j -2.31753346e+00+0.00000000e+00j\n",
      " -2.23644643e+00+0.00000000e+00j -2.20850485e+00+0.00000000e+00j\n",
      " -2.13519842e+00+0.00000000e+00j -2.14138336e+00+0.00000000e+00j\n",
      " -2.09019945e+00+0.00000000e+00j -2.04740256e+00+0.00000000e+00j\n",
      " -1.97779874e+00+0.00000000e+00j -2.00073066e+00+0.00000000e+00j\n",
      "  3.00000000e+00+0.00000000e+00j  2.25432315e+00+0.00000000e+00j\n",
      "  2.21866579e+00+0.00000000e+00j  2.19940398e+00+0.00000000e+00j\n",
      "  2.14478676e+00+0.00000000e+00j  2.12937967e+00+0.00000000e+00j\n",
      "  2.08844330e+00+0.00000000e+00j  2.05955408e+00+0.00000000e+00j\n",
      "  1.96710932e+00+0.00000000e+00j  1.98280517e+00+0.00000000e+00j\n",
      " -1.91328947e+00+0.00000000e+00j -1.85252918e+00+0.00000000e+00j\n",
      " -1.78596454e+00+0.00000000e+00j -1.76169547e+00+0.00000000e+00j\n",
      " -1.73945659e+00+0.00000000e+00j -1.72805092e+00+0.00000000e+00j\n",
      " -1.70711023e+00+0.00000000e+00j -1.68769230e+00+0.00000000e+00j\n",
      " -1.67008443e+00+0.00000000e+00j -1.60993404e+00+0.00000000e+00j\n",
      "  1.92097903e+00+0.00000000e+00j  1.88970995e+00+0.00000000e+00j\n",
      "  1.89973516e+00+0.00000000e+00j  1.85485530e+00+0.00000000e+00j\n",
      "  1.82003136e+00+0.00000000e+00j  1.76484384e+00+0.00000000e+00j\n",
      "  1.70898124e+00+0.00000000e+00j  1.68923652e+00+0.00000000e+00j\n",
      "  1.63806235e+00+0.00000000e+00j  1.63061320e+00+0.00000000e+00j\n",
      "  1.60324476e+00+0.00000000e+00j -1.58737215e+00+0.00000000e+00j\n",
      " -1.54852116e+00+0.00000000e+00j -1.48744643e+00+0.00000000e+00j\n",
      " -1.52897339e+00+0.00000000e+00j -1.46304292e+00+0.00000000e+00j\n",
      " -1.45109532e+00+0.00000000e+00j -1.41925208e+00+0.00000000e+00j\n",
      " -1.39423212e+00+0.00000000e+00j -1.38713258e+00+0.00000000e+00j\n",
      " -1.33417560e+00+0.00000000e+00j -1.32947663e+00+0.00000000e+00j\n",
      " -1.29294260e+00+0.00000000e+00j -1.24359968e+00+0.00000000e+00j\n",
      " -1.20987281e+00+0.00000000e+00j -1.05393743e+00+0.00000000e+00j\n",
      " -1.08478486e+00+0.00000000e+00j -1.12035577e+00+0.00000000e+00j\n",
      " -1.13903428e+00+0.00000000e+00j -1.14944685e+00+0.00000000e+00j\n",
      " -1.14744067e+00+0.00000000e+00j  1.57260444e+00+0.00000000e+00j\n",
      "  1.55394723e+00+0.00000000e+00j  1.54514896e+00+0.00000000e+00j\n",
      "  1.52138266e+00+0.00000000e+00j  1.49434274e+00+0.00000000e+00j\n",
      "  1.46068545e+00+0.00000000e+00j  1.45034613e+00+0.00000000e+00j\n",
      "  1.19229274e+00+0.00000000e+00j  1.20627514e+00+0.00000000e+00j\n",
      "  1.38628297e+00+0.00000000e+00j  1.39149006e+00+0.00000000e+00j\n",
      "  1.36686224e+00+0.00000000e+00j  1.25428705e+00+0.00000000e+00j\n",
      "  1.27846807e+00+0.00000000e+00j  1.33253978e+00+0.00000000e+00j\n",
      "  1.29319744e+00+0.00000000e+00j  1.31019783e+00+0.00000000e+00j\n",
      " -9.90733303e-01+0.00000000e+00j -1.00792214e+00+0.00000000e+00j\n",
      " -1.03662243e+00+0.00000000e+00j -1.02867891e+00+0.00000000e+00j\n",
      "  1.13508472e+00+0.00000000e+00j  1.08932497e+00+0.00000000e+00j\n",
      "  1.07181234e+00+0.00000000e+00j -9.46918525e-01+0.00000000e+00j\n",
      " -9.34378540e-01+0.00000000e+00j -8.80747746e-01+0.00000000e+00j\n",
      " -9.04922332e-01+0.00000000e+00j  2.00000000e+00+0.00000000e+00j\n",
      " -8.27934597e-01+0.00000000e+00j -8.08616284e-01+0.00000000e+00j\n",
      " -7.91283360e-01+0.00000000e+00j -7.54825356e-01+0.00000000e+00j\n",
      " -7.40123161e-01+0.00000000e+00j  1.06126111e+00+0.00000000e+00j\n",
      "  1.04958470e+00+0.00000000e+00j  1.02312375e+00+0.00000000e+00j\n",
      "  8.92726871e-01+0.00000000e+00j  1.00681814e+00+0.00000000e+00j\n",
      "  9.28373307e-01+0.00000000e+00j  9.40368842e-01+0.00000000e+00j\n",
      "  9.74280043e-01+0.00000000e+00j  9.58989781e-01+0.00000000e+00j\n",
      "  9.65430289e-01+0.00000000e+00j -6.92981136e-01+0.00000000e+00j\n",
      " -6.87446995e-01+0.00000000e+00j -6.71553760e-01+0.00000000e+00j\n",
      " -6.52913159e-01+0.00000000e+00j -6.42967928e-01+0.00000000e+00j\n",
      " -6.07667338e-01+0.00000000e+00j -6.14778047e-01+0.00000000e+00j\n",
      " -5.40004981e-01+0.00000000e+00j -5.31245750e-01+0.00000000e+00j\n",
      "  8.52891119e-01+0.00000000e+00j  8.34202589e-01+0.00000000e+00j\n",
      "  5.35926303e-01+0.00000000e+00j  8.03344864e-01+0.00000000e+00j\n",
      "  7.84808604e-01+0.00000000e+00j  5.70944879e-01+0.00000000e+00j\n",
      "  7.62499842e-01+0.00000000e+00j  6.01243401e-01+0.00000000e+00j\n",
      "  6.11097928e-01+0.00000000e+00j  6.64770108e-01+0.00000000e+00j\n",
      "  6.40662947e-01+0.00000000e+00j  6.95630486e-01+0.00000000e+00j\n",
      "  7.40731070e-01+0.00000000e+00j  7.26053619e-01+0.00000000e+00j\n",
      "  7.30586026e-01+0.00000000e+00j -5.08633191e-01+0.00000000e+00j\n",
      "  4.59371983e-01+0.00000000e+00j  4.87031954e-01+0.00000000e+00j\n",
      "  2.00000000e+00+0.00000000e+00j  2.00000000e+00+0.00000000e+00j\n",
      "  5.00482950e-01+0.00000000e+00j -3.98004362e-01+0.00000000e+00j\n",
      " -4.40377839e-01+0.00000000e+00j -4.59429922e-01+0.00000000e+00j\n",
      " -4.90246775e-01+0.00000000e+00j -4.81704311e-01+0.00000000e+00j\n",
      " -4.20473161e-01+0.00000000e+00j -4.08150038e-01+0.00000000e+00j\n",
      " -3.69589184e-01+0.00000000e+00j -3.34028337e-01+0.00000000e+00j\n",
      "  4.16330586e-01+0.00000000e+00j  4.02164167e-01+0.00000000e+00j\n",
      "  3.79086167e-01+0.00000000e+00j  3.84935922e-01+0.00000000e+00j\n",
      " -3.22450511e-01+0.00000000e+00j -2.84725096e-01+0.00000000e+00j\n",
      " -2.78621759e-01+0.00000000e+00j -2.55124277e-01+0.00000000e+00j\n",
      " -2.11470460e-01+0.00000000e+00j -1.96619542e-01+0.00000000e+00j\n",
      " -1.77710253e-01+0.00000000e+00j -1.44603390e-01+0.00000000e+00j\n",
      " -1.58416115e-01+0.00000000e+00j  3.20616562e-01+0.00000000e+00j\n",
      "  3.16645369e-01+0.00000000e+00j  3.07303989e-01+0.00000000e+00j\n",
      "  2.73482972e-01+0.00000000e+00j  2.55853722e-01+0.00000000e+00j\n",
      "  2.28774266e-01+0.00000000e+00j  2.19449440e-01+0.00000000e+00j\n",
      "  2.02413544e-01+0.00000000e+00j  1.75771017e-01+0.00000000e+00j\n",
      "  1.46968179e-01+0.00000000e+00j  1.60181281e-01+0.00000000e+00j\n",
      " -1.30040734e-01+0.00000000e+00j  2.00000000e+00+0.00000000e+00j\n",
      " -1.11927622e-01+0.00000000e+00j  1.23471138e-01+0.00000000e+00j\n",
      "  1.14006930e-01+0.00000000e+00j  8.22619649e-02+0.00000000e+00j\n",
      " -7.72956173e-02+0.00000000e+00j  6.58574729e-02+0.00000000e+00j\n",
      " -4.60872285e-02+0.00000000e+00j -3.99232336e-02+0.00000000e+00j\n",
      " -2.61245279e-02+0.00000000e+00j  1.19822872e-02+0.00000000e+00j\n",
      " -5.34632280e-03+0.00000000e+00j  2.93233116e-03+0.00000000e+00j\n",
      "  2.00000000e+00+0.00000000e+00j  8.24588772e-16+0.00000000e+00j\n",
      " -9.43932666e-16+0.00000000e+00j  6.24661240e-16+3.17603003e-16j\n",
      "  6.24661240e-16-3.17603003e-16j -2.62453265e-16+5.65329065e-16j\n",
      " -2.62453265e-16-5.65329065e-16j  6.19342034e-16+0.00000000e+00j\n",
      " -1.64522467e-17+5.86700714e-16j -1.64522467e-17-5.86700714e-16j\n",
      "  1.02262328e-16+5.61195111e-16j  1.02262328e-16-5.61195111e-16j\n",
      "  3.00846243e-16+4.72019949e-16j  3.00846243e-16-4.72019949e-16j\n",
      " -5.76930475e-16+0.00000000e+00j -4.63523119e-16+3.04256666e-16j\n",
      " -4.63523119e-16-3.04256666e-16j  5.18986837e-16+0.00000000e+00j\n",
      "  1.12228781e-17+4.49525600e-16j  1.12228781e-17-4.49525600e-16j\n",
      " -3.22360101e-16+3.21062454e-16j -3.22360101e-16-3.21062454e-16j\n",
      " -3.82531078e-16+2.17952993e-16j -3.82531078e-16-2.17952993e-16j\n",
      "  4.60230183e-16+0.00000000e+00j  4.25473490e-16+8.76358887e-17j\n",
      "  4.25473490e-16-8.76358887e-17j  3.44168953e-16+2.46623962e-16j\n",
      "  3.44168953e-16-2.46623962e-16j  1.85213474e-16+3.44455791e-16j\n",
      "  1.85213474e-16-3.44455791e-16j  2.60357179e-17+3.61775684e-16j\n",
      "  2.60357179e-17-3.61775684e-16j -3.78584079e-16+4.20974451e-17j\n",
      " -3.78584079e-16-4.20974451e-17j -3.55138999e-16+8.83135020e-17j\n",
      " -3.55138999e-16-8.83135020e-17j  3.01725107e-16+9.99462278e-17j\n",
      "  3.01725107e-16-9.99462278e-17j  2.33925129e-16+1.84828539e-16j\n",
      "  2.33925129e-16-1.84828539e-16j  1.43133091e-16+2.50457062e-16j\n",
      "  1.43133091e-16-2.50457062e-16j -1.58180085e-16+2.56765722e-16j\n",
      " -1.58180085e-16-2.56765722e-16j -1.12849263e-16+2.55827514e-16j\n",
      " -1.12849263e-16-2.55827514e-16j  2.93727220e-16+0.00000000e+00j\n",
      "  1.12622937e-16+1.93659035e-16j  1.12622937e-16-1.93659035e-16j\n",
      " -1.77060200e-16+1.32727009e-16j -1.77060200e-16-1.32727009e-16j\n",
      " -2.01497625e-16+6.49876396e-17j -2.01497625e-16-6.49876396e-17j\n",
      "  2.39757262e-16+0.00000000e+00j  1.51471828e-16+1.18237692e-16j\n",
      "  1.51471828e-16-1.18237692e-16j -1.20439218e-16+1.75989795e-16j\n",
      " -1.20439218e-16-1.75989795e-16j -1.84511489e-16+0.00000000e+00j\n",
      " -3.30307466e-17+1.29536210e-16j -3.30307466e-17-1.29536210e-16j\n",
      " -6.38575649e-17+1.00352054e-16j -6.38575649e-17-1.00352054e-16j\n",
      "  9.50788555e-17+8.51529013e-17j  9.50788555e-17-8.51529013e-17j\n",
      "  5.29986008e-17+1.03687433e-16j  5.29986008e-17-1.03687433e-16j\n",
      "  1.47599543e-16+6.91513088e-18j  1.47599543e-16-6.91513088e-18j\n",
      "  4.91467937e-17+6.45981781e-17j  4.91467937e-17-6.45981781e-17j\n",
      "  7.83028273e-17+1.13035788e-17j  7.83028273e-17-1.13035788e-17j\n",
      " -9.12112058e-17+3.30711496e-17j -9.12112058e-17-3.30711496e-17j\n",
      " -9.02881893e-17+0.00000000e+00j -5.10841975e-18+6.33074525e-17j\n",
      " -5.10841975e-18-6.33074525e-17j -4.70512002e-17+1.63847436e-17j\n",
      " -4.70512002e-17-1.63847436e-17j -2.16403845e-17+3.49812342e-17j\n",
      " -2.16403845e-17-3.49812342e-17j  1.16792393e-17+6.29048755e-18j\n",
      "  1.16792393e-17-6.29048755e-18j -6.66796726e-18+0.00000000e+00j\n",
      "  5.70995128e-20+0.00000000e+00j -4.86845834e-22+0.00000000e+00j\n",
      "  4.69303616e-23+0.00000000e+00j -8.22586240e-26+0.00000000e+00j\n",
      "  9.71578990e-31+0.00000000e+00j  6.15739123e-32+6.19729283e-31j\n",
      "  6.15739123e-32-6.19729283e-31j -2.81380325e-31+0.00000000e+00j\n",
      "  1.20889225e-31+0.00000000e+00j -7.64238361e-32+4.85858727e-32j\n",
      " -7.64238361e-32-4.85858727e-32j  4.74072348e-32+0.00000000e+00j\n",
      " -1.25353293e-32+2.16054147e-32j -1.25353293e-32-2.16054147e-32j\n",
      "  7.48802395e-33+0.00000000e+00j -3.39667042e-33+0.00000000e+00j\n",
      "  3.42399324e-48+0.00000000e+00j  1.00000000e+00+0.00000000e+00j\n",
      "  1.00000000e+00+0.00000000e+00j  1.00000000e+00+0.00000000e+00j\n",
      "  1.00000000e+00+0.00000000e+00j  1.00000000e+00+0.00000000e+00j\n",
      "  1.00000000e+00+0.00000000e+00j  1.00000000e+00+0.00000000e+00j\n",
      "  1.00000000e+00+0.00000000e+00j  1.00000000e+00+0.00000000e+00j\n",
      "  1.00000000e+00+0.00000000e+00j  1.00000000e+00+0.00000000e+00j\n",
      "  1.00000000e+00+0.00000000e+00j  1.00000000e+00+0.00000000e+00j\n",
      "  1.00000000e+00+0.00000000e+00j  1.00000000e+00+0.00000000e+00j\n",
      "  1.00000000e+00+0.00000000e+00j  1.00000000e+00+0.00000000e+00j]\n",
      "396\n"
     ]
    }
   ],
   "source": [
    "# spectral analysis\n",
    "\n",
    "# evals, evecs = np.linalg.eig()\n",
    "adj_matrix = nx.adjacency_matrix(g).todense()\n",
    "evals, evecs = np.linalg.eig(adj_matrix)\n",
    "print(evals)\n",
    "print(len(evals))"
   ]
  },
  {
   "cell_type": "code",
   "execution_count": 23,
   "metadata": {},
   "outputs": [],
   "source": [
    "# expansion analysis\n",
    "\n"
   ]
  }
 ],
 "metadata": {
  "kernelspec": {
   "display_name": "Python 3",
   "language": "python",
   "name": "python3"
  },
  "language_info": {
   "codemirror_mode": {
    "name": "ipython",
    "version": 3
   },
   "file_extension": ".py",
   "mimetype": "text/x-python",
   "name": "python",
   "nbconvert_exporter": "python",
   "pygments_lexer": "ipython3",
   "version": "3.6.4"
  }
 },
 "nbformat": 4,
 "nbformat_minor": 2
}
