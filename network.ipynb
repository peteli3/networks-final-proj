{
 "cells": [
  {
   "cell_type": "code",
   "execution_count": 1,
   "metadata": {},
   "outputs": [],
   "source": [
    "import json\n",
    "import pprint\n",
    "\n",
    "# dataset source\n",
    "# https://files.pushshift.io/reddit/comments/\n",
    "pp = pprint.PrettyPrinter(indent=4)"
   ]
  },
  {
   "cell_type": "code",
   "execution_count": 2,
   "metadata": {},
   "outputs": [],
   "source": [
    "# access constants\n",
    "\n",
    "ID = 'id'\n",
    "BODY = 'body'\n",
    "SCORE = 'score'\n",
    "PARENT = 'parent_id'\n",
    "LINK = 'link_id'\n",
    "\n",
    "DATASET_FILE = 'reddit_2006jan.json'\n",
    "QUERY_SUBREDDIT = 'reddit.com'"
   ]
  },
  {
   "cell_type": "code",
   "execution_count": 26,
   "metadata": {},
   "outputs": [],
   "source": [
    "# read json\n",
    "\n",
    "with open(DATASET_FILE) as file:\n",
    "    data = json.loads(file.read())"
   ]
  },
  {
   "cell_type": "code",
   "execution_count": 27,
   "metadata": {},
   "outputs": [
    {
     "name": "stdout",
     "output_type": "stream",
     "text": [
      "3664 results for query on subreddit: reddit.com\n"
     ]
    }
   ],
   "source": [
    "# filter posts by subreddit\n",
    "\n",
    "data = [post for post in data if post['subreddit'] == QUERY_SUBREDDIT]\n",
    "print('{} results for query on subreddit: {}'.format(len(data), QUERY_SUBREDDIT))"
   ]
  },
  {
   "cell_type": "code",
   "execution_count": 28,
   "metadata": {},
   "outputs": [
    {
     "name": "stdout",
     "output_type": "stream",
     "text": [
      "0 entries without id\n",
      "0 entries without body\n",
      "0 entries without parent\n",
      "0 entries without link\n"
     ]
    }
   ],
   "source": [
    "# count up degenerate entries\n",
    "\n",
    "no_id = [post for post in data if not ID in post]\n",
    "print('{} entries without id'.format(len(no_id)))\n",
    "\n",
    "no_body = [post for post in data if not BODY in post]\n",
    "print('{} entries without body'.format(len(no_body)))\n",
    "\n",
    "no_parent = [post for post in data if not PARENT in post]\n",
    "print('{} entries without parent'.format(len(no_parent)))\n",
    "\n",
    "no_link = [post for post in data if not LINK in post]\n",
    "print('{} entries without link'.format(len(no_link)))"
   ]
  },
  {
   "cell_type": "code",
   "execution_count": 29,
   "metadata": {},
   "outputs": [],
   "source": [
    "class Node(object):\n",
    "    def __init__(self, body, score, parent, link):\n",
    "        self.body = body\n",
    "        self.score = score\n",
    "        self.parent = parent\n",
    "        self.link = link"
   ]
  },
  {
   "cell_type": "code",
   "execution_count": 30,
   "metadata": {},
   "outputs": [],
   "source": [
    "# build dict of Node Objects by post id\n",
    "\n",
    "def build_nodes_set(data):\n",
    "    nodes = dict() # post_id: Node Object\n",
    "    for post in data:\n",
    "        nodes[post[ID]] = Node(post[BODY], post[SCORE], post[PARENT], post[LINK])\n",
    "    return nodes"
   ]
  },
  {
   "cell_type": "code",
   "execution_count": 31,
   "metadata": {},
   "outputs": [],
   "source": [
    "# build dict of post ids by link_id\n",
    "\n",
    "def build_threads_set(nodes):\n",
    "    threads = dict() # link_id: [post_ids]\n",
    "    for post_id in nodes.keys():\n",
    "        thread_id = nodes[post_id].link\n",
    "        if thread_id in threads.keys():\n",
    "            threads[thread_id].append(post_id)\n",
    "        else:\n",
    "            threads[thread_id] = [post_id]\n",
    "    return threads"
   ]
  },
  {
   "cell_type": "code",
   "execution_count": 32,
   "metadata": {},
   "outputs": [],
   "source": [
    "# builda dict of thread bodies by link_id\n",
    "\n",
    "def build_thread_bodies(threads, nodes):\n",
    "    thread_bodies = dict() # link_id: 'str w/ all comment text'\n",
    "    for link_id in threads.keys():\n",
    "        thread_bodies[link_id] = \"\"\n",
    "        comments = threads[link_id]\n",
    "        for post_id in comments:\n",
    "            thread_bodies[link_id] += nodes[post_id].body\n",
    "\n",
    "        # PARSE RULES #\n",
    "        thread_bodies[link_id] = thread_bodies[link_id].replace('\\n', '')\n",
    "        thread_bodies[link_id] = thread_bodies[link_id].replace('\\r', '')\n",
    "    return thread_bodies"
   ]
  },
  {
   "cell_type": "code",
   "execution_count": 33,
   "metadata": {},
   "outputs": [],
   "source": [
    "from nltk.tokenize import RegexpTokenizer\n",
    "from nltk.stem.porter import PorterStemmer\n",
    "from stop_words import get_stop_words\n",
    "from gensim import corpora, models\n",
    "\n",
    "import numpy as np\n",
    "import time"
   ]
  },
  {
   "cell_type": "code",
   "execution_count": 35,
   "metadata": {},
   "outputs": [],
   "source": [
    "# gensim LDA library\n",
    "\n",
    "tokenizer = RegexpTokenizer(r'\\w+')\n",
    "en_stop = set(get_stop_words('en'))\n",
    "porter_stemmer = PorterStemmer()\n",
    "\n",
    "clean = []\n",
    "for idx, thread_body in enumerate(thread_bodies.values()):\n",
    "    raw_text = thread_body.lower()\n",
    "    tokens = tokenizer.tokenize(raw_text)\n",
    "    stopped = [i for i in tokens if i not in en_stop]\n",
    "    stemmed = [porter_stemmer.stem(i) for i in stopped]\n",
    "    clean.append(stemmed)\n",
    "\n",
    "# term_dict = corpora.Dictionary(clean)\n",
    "# corpus = [term_dict.doc2bow(text) for text in clean]\n",
    "\n",
    "# start = time.time()\n",
    "# lda = models.ldamodel.LdaModel(corpus, num_topics=NUM_TOPICS, id2word=term_dict, passes=PASSES)\n",
    "# pp.pprint(lda.print_topics(num_topics=NUM_TOPICS, num_words=NUM_WORDS))\n",
    "# end = time.time()"
   ]
  },
  {
   "cell_type": "code",
   "execution_count": 36,
   "metadata": {},
   "outputs": [],
   "source": [
    "from sklearn.feature_extraction.text import TfidfVectorizer, CountVectorizer\n",
    "from sklearn.decomposition import LatentDirichletAllocation"
   ]
  },
  {
   "cell_type": "code",
   "execution_count": 37,
   "metadata": {},
   "outputs": [],
   "source": [
    "def display_topics(model, feature_names, no_top_words):\n",
    "    for topic_idx, topic in enumerate(model.components_):\n",
    "        print('Topic {}:'.format(topic_idx))\n",
    "        print(' '.join([feature_names[i] for i in topic.argsort()[:-no_top_words - 1:-1]]))\n",
    "        print('')"
   ]
  },
  {
   "cell_type": "code",
   "execution_count": 38,
   "metadata": {},
   "outputs": [
    {
     "name": "stderr",
     "output_type": "stream",
     "text": [
      "/Users/Peterli/anaconda3/lib/python3.6/site-packages/sklearn/decomposition/online_lda.py:294: DeprecationWarning: n_topics has been renamed to n_components in version 0.19 and will be removed in 0.21\n",
      "  DeprecationWarning)\n"
     ]
    },
    {
     "name": "stdout",
     "output_type": "stream",
     "text": [
      "Topic 0:\n",
      "deleted windows\n",
      "\n",
      "Topic 1:\n",
      "people like\n",
      "\n",
      "Topic 2:\n",
      "oil google\n",
      "\n",
      "Topic 3:\n",
      "just like\n",
      "\n",
      "Topic 4:\n",
      "http com\n",
      "\n",
      "time elapsed: 5.607994318008423 seconds\n"
     ]
    }
   ],
   "source": [
    "NUM_TOPICS = 5\n",
    "NUM_WORDS = 2\n",
    "PASSES = 20\n",
    "\n",
    "nodes = build_nodes_set(data)\n",
    "threads = build_threads_set(nodes)\n",
    "thread_bodies = build_thread_bodies(threads, nodes)\n",
    "\n",
    "# train LDA model\n",
    "\n",
    "start = time.time()\n",
    "\n",
    "train = list(thread_bodies.values())\n",
    "tf_vectorizer = CountVectorizer(max_df=0.95, min_df=2, max_features=1000, stop_words='english')\n",
    "tf_train = tf_vectorizer.fit_transform(train)\n",
    "tf_feature_names = tf_vectorizer.get_feature_names()\n",
    "\n",
    "lda = LatentDirichletAllocation(n_topics=NUM_TOPICS, max_iter=PASSES, learning_method='online', learning_offset=50.,random_state=0)\n",
    "lda.fit(tf_train)\n",
    "\n",
    "display_topics(lda, tf_feature_names, NUM_WORDS)\n",
    "\n",
    "end = time.time()\n",
    "\n",
    "print('time elapsed: {} seconds'.format(end - start))\n",
    "\n"
   ]
  },
  {
   "cell_type": "code",
   "execution_count": 39,
   "metadata": {},
   "outputs": [],
   "source": [
    "# test prediction \n",
    "\n",
    "with open('reddit_2005dec.json') as file:\n",
    "    test_data = json.loads(file.read())\n",
    "\n",
    "nodes = build_nodes_set(test_data)\n",
    "threads = build_threads_set(nodes)\n",
    "thread_bodies = build_thread_bodies(threads, nodes)\n",
    "\n",
    "test_set = list(thread_bodies.values())\n",
    "tf_test = tf_vectorizer.fit_transform(test_set)\n",
    "# print(list(thread_bodies.values())[-1])\n",
    "predict = lda.transform(tf_test)\n",
    "\n",
    "# pp.pprint(predict[:3])\n",
    "# print('')\n",
    "# print(test_set[0] + '\\n')\n",
    "# print(test_set[1] + '\\n')\n",
    "# print(test_set[2] + '\\n\\n')\n",
    "\n",
    "# pp.pprint(predict[-3:])\n",
    "# print('')\n",
    "# print(test_set[-3] + '\\n')\n",
    "# print(test_set[-2] + '\\n')\n",
    "# print(test_set[-1] + '\\n\\n')"
   ]
  },
  {
   "cell_type": "code",
   "execution_count": 44,
   "metadata": {},
   "outputs": [
    {
     "name": "stdout",
     "output_type": "stream",
     "text": [
      "array([[0.05232976, 0.53655661, 0.05006991, 0.30852102, 0.0525227 ],\n",
      "       [0.00745875, 0.57534911, 0.00761521, 0.144825  , 0.26475192],\n",
      "       [0.06667518, 0.72823481, 0.0710696 , 0.06733943, 0.06668097],\n",
      "       ...,\n",
      "       [0.156999  , 0.41127412, 0.10943053, 0.25145537, 0.07084097],\n",
      "       [0.00691655, 0.63011907, 0.04981258, 0.00733707, 0.30581473],\n",
      "       [0.02222729, 0.21748446, 0.02280595, 0.71453702, 0.02294528]])\n",
      "396\n"
     ]
    }
   ],
   "source": [
    "pp.pprint(predict)\n",
    "print(len(predict))\n",
    "\n"
   ]
  },
  {
   "cell_type": "code",
   "execution_count": 102,
   "metadata": {},
   "outputs": [],
   "source": [
    "# build adjacency list\n",
    "\n"
   ]
  },
  {
   "cell_type": "code",
   "execution_count": 99,
   "metadata": {},
   "outputs": [],
   "source": [
    "# visualize network"
   ]
  },
  {
   "cell_type": "code",
   "execution_count": 100,
   "metadata": {},
   "outputs": [],
   "source": [
    "# dump network"
   ]
  }
 ],
 "metadata": {
  "kernelspec": {
   "display_name": "Python 3",
   "language": "python",
   "name": "python3"
  },
  "language_info": {
   "codemirror_mode": {
    "name": "ipython",
    "version": 3
   },
   "file_extension": ".py",
   "mimetype": "text/x-python",
   "name": "python",
   "nbconvert_exporter": "python",
   "pygments_lexer": "ipython3",
   "version": "3.6.4"
  }
 },
 "nbformat": 4,
 "nbformat_minor": 2
}
