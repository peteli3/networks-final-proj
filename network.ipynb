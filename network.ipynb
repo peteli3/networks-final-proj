{
 "cells": [
  {
   "cell_type": "code",
   "execution_count": 3,
   "metadata": {},
   "outputs": [],
   "source": [
    "import json\n",
    "import pprint\n",
    "\n",
    "# dataset source\n",
    "# https://files.pushshift.io/reddit/comments/\n",
    "\n",
    "# DATASET_FILE = 'rc_2005dec_data'\n",
    "DATASET_FILE = 'reddit_2006jan.json'\n",
    "\n",
    "QUERY_SUBREDDIT = 'reddit.com'\n",
    "pp = pprint.PrettyPrinter(indent=4)"
   ]
  },
  {
   "cell_type": "code",
   "execution_count": 4,
   "metadata": {},
   "outputs": [],
   "source": [
    "ID = 'id'\n",
    "BODY = 'body'\n",
    "SCORE = 'score'\n",
    "PARENT = 'parent_id'\n",
    "LINK = 'link_id'"
   ]
  },
  {
   "cell_type": "code",
   "execution_count": 5,
   "metadata": {},
   "outputs": [
    {
     "name": "stdout",
     "output_type": "stream",
     "text": [
      "3666\n",
      "{   'author': 'jh99',\n",
      "    'author_flair_css_class': None,\n",
      "    'author_flair_text': None,\n",
      "    'body': 'early 2006 a probable date',\n",
      "    'controversiality': 0,\n",
      "    'created_utc': 1136074029,\n",
      "    'distinguished': None,\n",
      "    'edited': False,\n",
      "    'gilded': 0,\n",
      "    'id': 'c2715',\n",
      "    'link_id': 't3_22569',\n",
      "    'parent_id': 't3_22569',\n",
      "    'retrieved_on': 1473821517,\n",
      "    'score': 0,\n",
      "    'stickied': False,\n",
      "    'subreddit': 'reddit.com',\n",
      "    'subreddit_id': 't5_6',\n",
      "    'ups': 0}\n"
     ]
    }
   ],
   "source": [
    "# read json\n",
    "with open(DATASET_FILE) as file:\n",
    "    data = json.loads(file.read())\n",
    "    \n",
    "print(len(data))\n",
    "pp.pprint(data[0])"
   ]
  },
  {
   "cell_type": "code",
   "execution_count": 6,
   "metadata": {},
   "outputs": [
    {
     "name": "stdout",
     "output_type": "stream",
     "text": [
      "3664 results for query on subreddit: reddit.com\n"
     ]
    }
   ],
   "source": [
    "# filter posts by subreddit\n",
    "data = [post for post in data if post['subreddit'] == QUERY_SUBREDDIT]\n",
    "print('{} results for query on subreddit: {}'.format(len(data), QUERY_SUBREDDIT))"
   ]
  },
  {
   "cell_type": "code",
   "execution_count": 7,
   "metadata": {},
   "outputs": [
    {
     "name": "stdout",
     "output_type": "stream",
     "text": [
      "0 entries without id\n",
      "0 entries without body\n",
      "0 entries without parent\n",
      "0 entries without link\n"
     ]
    }
   ],
   "source": [
    "# count up degenerate entries\n",
    "no_id = [post for post in data if not ID in post]\n",
    "print('{} entries without id'.format(len(no_id)))\n",
    "\n",
    "no_body = [post for post in data if not BODY in post]\n",
    "print('{} entries without body'.format(len(no_body)))\n",
    "\n",
    "no_parent = [post for post in data if not PARENT in post]\n",
    "print('{} entries without parent'.format(len(no_parent)))\n",
    "\n",
    "no_link = [post for post in data if not LINK in post]\n",
    "print('{} entries without link'.format(len(no_link)))"
   ]
  },
  {
   "cell_type": "code",
   "execution_count": 8,
   "metadata": {},
   "outputs": [],
   "source": [
    "class Node(object):\n",
    "    def __init__(self, body, score, parent, link):\n",
    "        self.body = body\n",
    "        self.score = score\n",
    "        self.parent = parent\n",
    "        self.link = link"
   ]
  },
  {
   "cell_type": "code",
   "execution_count": 9,
   "metadata": {},
   "outputs": [],
   "source": [
    "# build nodes\n",
    "nodes = dict() # post_id: Node Object\n",
    "for post in data:\n",
    "    nodes[post[ID]] = Node(post[BODY], post[SCORE], post[PARENT], post[LINK])"
   ]
  },
  {
   "cell_type": "code",
   "execution_count": 21,
   "metadata": {},
   "outputs": [],
   "source": [
    "# build threads (posts arranged by link_id)\n",
    "threads = dict() # link_id: [post_ids]\n",
    "for post_id in nodes.keys():\n",
    "    thread_id = nodes[post_id].link\n",
    "    if thread_id in threads.keys():\n",
    "        threads[thread_id].append(post_id)\n",
    "    else:\n",
    "        threads[thread_id] = [post_id]"
   ]
  },
  {
   "cell_type": "code",
   "execution_count": 30,
   "metadata": {},
   "outputs": [
    {
     "name": "stdout",
     "output_type": "stream",
     "text": [
      "What I clicked to get here: It's Tax Time: PCWorld Reviews the Boxed Software (pcworld.com)1 point posted 1 hour ago by hitsman [...]Seems there's some issue with this id.\n"
     ]
    }
   ],
   "source": [
    "# build thread bodies\n",
    "thread_bodies = dict() # link_id: 'str w/ all comment text'\n",
    "for link_id in threads.keys():\n",
    "    thread_bodies[link_id] = \"\"\n",
    "    comments = threads[link_id]\n",
    "    for post_id in comments:\n",
    "        thread_bodies[link_id] += nodes[post_id].body\n",
    "        \n",
    "    # PARSE RULES #\n",
    "    thread_bodies[link_id] = thread_bodies[link_id].replace('\\n', '')\n",
    "    thread_bodies[link_id] = thread_bodies[link_id].replace('\\r', '')"
   ]
  },
  {
   "cell_type": "code",
   "execution_count": 96,
   "metadata": {},
   "outputs": [],
   "source": [
    "from nltk.tokenize import RegexpTokenizer\n",
    "from nltk.stem.porter import PorterStemmer\n",
    "from stop_words import get_stop_words\n",
    "from gensim import corpora, models\n",
    "\n",
    "import numpy as np\n",
    "\n",
    "from sklearn.feature_extraction.text import TfidfVectorizer, CountVectorizer\n",
    "from sklearn.decomposition import LatentDirichletAllocation\n",
    "import time"
   ]
  },
  {
   "cell_type": "code",
   "execution_count": 100,
   "metadata": {},
   "outputs": [],
   "source": [
    "def display_topics(model, feature_names, no_top_words):\n",
    "    for topic_idx, topic in enumerate(model.components_):\n",
    "        print('Topic {}:'.format(topic_idx))\n",
    "        print(' '.join([feature_names[i]\n",
    "                        for i in topic.argsort()[:-no_top_words - 1:-1]]))"
   ]
  },
  {
   "cell_type": "code",
   "execution_count": 101,
   "metadata": {},
   "outputs": [
    {
     "name": "stderr",
     "output_type": "stream",
     "text": [
      "/Users/Peterli/anaconda3/lib/python3.6/site-packages/sklearn/decomposition/online_lda.py:294: DeprecationWarning: n_topics has been renamed to n_components in version 0.19 and will be removed in 0.21\n",
      "  DeprecationWarning)\n"
     ]
    },
    {
     "name": "stdout",
     "output_type": "stream",
     "text": [
      "Topic 0:\n",
      "deleted windows\n",
      "Topic 1:\n",
      "people like\n",
      "Topic 2:\n",
      "oil google\n",
      "Topic 3:\n",
      "just like\n",
      "Topic 4:\n",
      "http com\n",
      "time elapsed: 3.314018249511719e-05 seconds\n"
     ]
    }
   ],
   "source": [
    "NUM_TOPICS = 5\n",
    "NUM_WORDS = 2\n",
    "PASSES = 20\n",
    "\n",
    "# assign topic score to each node\n",
    "\n",
    "tokenizer = RegexpTokenizer(r'\\w+')\n",
    "en_stop = get_stop_words('en')\n",
    "porter_stemmer = PorterStemmer()\n",
    "\n",
    "clean = []\n",
    "for idx, thread_body in enumerate(thread_bodies.values()):\n",
    "    raw_text = thread_body.lower()\n",
    "    tokens = tokenizer.tokenize(raw_text)\n",
    "    stopped = [i for i in tokens if i not in en_stop]\n",
    "    stemmed = [porter_stemmer.stem(i) for i in stopped]\n",
    "    clean.append(stemmed)\n",
    "\n",
    "tf_vectorizer = CountVectorizer(max_df=0.95, min_df=2, max_features=1000, stop_words='english')\n",
    "tf = tf_vectorizer.fit_transform(list(thread_bodies.values()))\n",
    "tf_feature_names = tf_vectorizer.get_feature_names()\n",
    "\n",
    "lda = LatentDirichletAllocation(n_topics=NUM_TOPICS, max_iter=PASSES, learning_method='online', learning_offset=50.,random_state=0)\n",
    "lda.fit(tf)\n",
    "\n",
    "display_topics(lda, tf_feature_names, NUM_WORDS)\n",
    "\n",
    "# term_dict = corpora.Dictionary(clean)\n",
    "# corpus = [term_dict.doc2bow(text) for text in clean]\n",
    "\n",
    "# start = time.time()\n",
    "# lda = models.ldamodel.LdaModel(corpus, num_topics=NUM_TOPICS, id2word=term_dict, passes=PASSES)\n",
    "# pp.pprint(lda.print_topics(num_topics=NUM_TOPICS, num_words=NUM_WORDS))\n",
    "# end = time.time()\n",
    "\n",
    "start = time.time()\n",
    "# lda = LatentDirichletAllocation(n_topics=NUM_TOPICS, max_iter=PASSES, random_state=0)\n",
    "# clean = [np.array(text) for text in clean]\n",
    "# lda.fit(np.array(clean))\n",
    "\n",
    "\n",
    "end = time.time()\n",
    "\n",
    "print('time elapsed: {} seconds'.format(end - start))\n",
    "\n"
   ]
  },
  {
   "cell_type": "code",
   "execution_count": 98,
   "metadata": {},
   "outputs": [],
   "source": [
    "# build adjacency list"
   ]
  },
  {
   "cell_type": "code",
   "execution_count": 99,
   "metadata": {},
   "outputs": [],
   "source": [
    "# visualize network"
   ]
  },
  {
   "cell_type": "code",
   "execution_count": 100,
   "metadata": {},
   "outputs": [],
   "source": [
    "# dump network"
   ]
  }
 ],
 "metadata": {
  "kernelspec": {
   "display_name": "Python 3",
   "language": "python",
   "name": "python3"
  },
  "language_info": {
   "codemirror_mode": {
    "name": "ipython",
    "version": 3
   },
   "file_extension": ".py",
   "mimetype": "text/x-python",
   "name": "python",
   "nbconvert_exporter": "python",
   "pygments_lexer": "ipython3",
   "version": "3.6.4"
  }
 },
 "nbformat": 4,
 "nbformat_minor": 2
}
