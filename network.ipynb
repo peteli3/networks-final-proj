{
 "cells": [
  {
   "cell_type": "code",
   "execution_count": 1,
   "metadata": {
    "collapsed": true
   },
   "outputs": [],
   "source": [
    "import json\n",
    "import pprint\n",
    "\n",
    "# dataset source\n",
    "# https://files.pushshift.io/reddit/comments/\n",
    "pp = pprint.PrettyPrinter(indent=4)"
   ]
  },
  {
   "cell_type": "code",
   "execution_count": 2,
   "metadata": {
    "collapsed": true
   },
   "outputs": [],
   "source": [
    "# access constants\n",
    "\n",
    "ID = 'id'\n",
    "BODY = 'body'\n",
    "SCORE = 'score'\n",
    "PARENT = 'parent_id'\n",
    "LINK = 'link_id'\n",
    "\n",
    "DATASET_FILE = 'reddit_2006jan.json'\n",
    "QUERY_SUBREDDIT = 'reddit.com'"
   ]
  },
  {
   "cell_type": "code",
   "execution_count": 3,
   "metadata": {
    "collapsed": true
   },
   "outputs": [],
   "source": [
    "class Node(object):\n",
    "    def __init__(self, body, score, parent, link):\n",
    "        self.body = body\n",
    "        self.score = score\n",
    "        self.parent = parent\n",
    "        self.link = link"
   ]
  },
  {
   "cell_type": "code",
   "execution_count": 4,
   "metadata": {
    "collapsed": true
   },
   "outputs": [],
   "source": [
    "# build dict of Node Objects by post id\n",
    "\n",
    "def build_nodes_set(data):\n",
    "    nodes = dict() # post_id: Node Object\n",
    "    for post in data:\n",
    "        nodes[post[ID]] = Node(post[BODY], post[SCORE], post[PARENT], post[LINK])\n",
    "    return nodes"
   ]
  },
  {
   "cell_type": "code",
   "execution_count": 5,
   "metadata": {
    "collapsed": true
   },
   "outputs": [],
   "source": [
    "# build dict of post ids by link_id\n",
    "\n",
    "def build_threads_set(nodes):\n",
    "    threads = dict() # link_id: [post_ids]\n",
    "    for post_id in nodes.keys():\n",
    "        thread_id = nodes[post_id].link\n",
    "        if thread_id in threads.keys():\n",
    "            threads[thread_id].append(post_id)\n",
    "        else:\n",
    "            threads[thread_id] = [post_id]\n",
    "    return threads"
   ]
  },
  {
   "cell_type": "code",
   "execution_count": 6,
   "metadata": {
    "collapsed": true
   },
   "outputs": [],
   "source": [
    "# builda dict of thread bodies by link_id\n",
    "\n",
    "def build_thread_bodies(threads, nodes):\n",
    "    thread_bodies = dict() # link_id: 'str w/ all comment text'\n",
    "    for link_id in threads.keys():\n",
    "        thread_bodies[link_id] = \"\"\n",
    "        comments = threads[link_id]\n",
    "        for post_id in comments:\n",
    "            thread_bodies[link_id] += nodes[post_id].body\n",
    "\n",
    "        # PARSE RULES #\n",
    "        thread_bodies[link_id] = thread_bodies[link_id].replace('\\n', '')\n",
    "        thread_bodies[link_id] = thread_bodies[link_id].replace('\\r', '')\n",
    "    return thread_bodies"
   ]
  },
  {
   "cell_type": "code",
   "execution_count": 7,
   "metadata": {},
   "outputs": [
    {
     "name": "stdout",
     "output_type": "stream",
     "text": [
      "3664 results for query on subreddit: reddit.com\n",
      "\n",
      "0 entries without id\n",
      "0 entries without body\n",
      "0 entries without parent\n",
      "0 entries without link\n"
     ]
    }
   ],
   "source": [
    "# read dataset\n",
    "\n",
    "with open(DATASET_FILE) as file:\n",
    "    train_data = json.loads(file.read())\n",
    "\n",
    "# filter posts by subreddit\n",
    "\n",
    "train_data = [post for post in train_data if post['subreddit'] == QUERY_SUBREDDIT]\n",
    "print('{} results for query on subreddit: {}\\n'.format(len(train_data), QUERY_SUBREDDIT))\n",
    "\n",
    "# count up degenerate entries\n",
    "\n",
    "no_id = [post for post in train_data if not ID in post]\n",
    "print('{} entries without id'.format(len(no_id)))\n",
    "\n",
    "no_body = [post for post in train_data if not BODY in post]\n",
    "print('{} entries without body'.format(len(no_body)))\n",
    "\n",
    "no_parent = [post for post in train_data if not PARENT in post]\n",
    "print('{} entries without parent'.format(len(no_parent)))\n",
    "\n",
    "no_link = [post for post in train_data if not LINK in post]\n",
    "print('{} entries without link'.format(len(no_link)))"
   ]
  },
  {
   "cell_type": "code",
   "execution_count": 8,
   "metadata": {
    "collapsed": true
   },
   "outputs": [],
   "source": [
    "from nltk.tokenize import RegexpTokenizer\n",
    "from nltk.stem.porter import PorterStemmer\n",
    "from stop_words import get_stop_words\n",
    "from gensim import corpora, models\n",
    "\n",
    "import numpy as np\n",
    "import time"
   ]
  },
  {
   "cell_type": "code",
   "execution_count": 10,
   "metadata": {},
   "outputs": [
    {
     "ename": "NameError",
     "evalue": "name 'thread_bodies' is not defined",
     "output_type": "error",
     "traceback": [
      "\u001b[0;31m---------------------------------------------------------------------------\u001b[0m",
      "\u001b[0;31mNameError\u001b[0m                                 Traceback (most recent call last)",
      "\u001b[0;32m<ipython-input-10-9a2c3ac72291>\u001b[0m in \u001b[0;36m<module>\u001b[0;34m()\u001b[0m\n\u001b[1;32m      6\u001b[0m \u001b[0;34m\u001b[0m\u001b[0m\n\u001b[1;32m      7\u001b[0m \u001b[0mclean\u001b[0m \u001b[0;34m=\u001b[0m \u001b[0;34m[\u001b[0m\u001b[0;34m]\u001b[0m\u001b[0;34m\u001b[0m\u001b[0m\n\u001b[0;32m----> 8\u001b[0;31m \u001b[0;32mfor\u001b[0m \u001b[0midx\u001b[0m\u001b[0;34m,\u001b[0m \u001b[0mthread_body\u001b[0m \u001b[0;32min\u001b[0m \u001b[0menumerate\u001b[0m\u001b[0;34m(\u001b[0m\u001b[0mthread_bodies\u001b[0m\u001b[0;34m.\u001b[0m\u001b[0mvalues\u001b[0m\u001b[0;34m(\u001b[0m\u001b[0;34m)\u001b[0m\u001b[0;34m)\u001b[0m\u001b[0;34m:\u001b[0m\u001b[0;34m\u001b[0m\u001b[0m\n\u001b[0m\u001b[1;32m      9\u001b[0m     \u001b[0mraw_text\u001b[0m \u001b[0;34m=\u001b[0m \u001b[0mthread_body\u001b[0m\u001b[0;34m.\u001b[0m\u001b[0mlower\u001b[0m\u001b[0;34m(\u001b[0m\u001b[0;34m)\u001b[0m\u001b[0;34m\u001b[0m\u001b[0m\n\u001b[1;32m     10\u001b[0m     \u001b[0mtokens\u001b[0m \u001b[0;34m=\u001b[0m \u001b[0mtokenizer\u001b[0m\u001b[0;34m.\u001b[0m\u001b[0mtokenize\u001b[0m\u001b[0;34m(\u001b[0m\u001b[0mraw_text\u001b[0m\u001b[0;34m)\u001b[0m\u001b[0;34m\u001b[0m\u001b[0m\n",
      "\u001b[0;31mNameError\u001b[0m: name 'thread_bodies' is not defined"
     ]
    }
   ],
   "source": [
    "# gensim LDA library - ignore\n",
    "\n",
    "tokenizer = RegexpTokenizer(r'\\w+')\n",
    "en_stop = set(get_stop_words('en'))\n",
    "porter_stemmer = PorterStemmer()\n",
    "\n",
    "clean = []\n",
    "for idx, thread_body in enumerate(thread_bodies.values()):\n",
    "    raw_text = thread_body.lower()\n",
    "    tokens = tokenizer.tokenize(raw_text)\n",
    "    stopped = [i for i in tokens if i not in en_stop]\n",
    "    stemmed = [porter_stemmer.stem(i) for i in stopped]\n",
    "    clean.append(stemmed)\n",
    "\n",
    "# term_dict = corpora.Dictionary(clean)\n",
    "# corpus = [term_dict.doc2bow(text) for text in clean]\n",
    "\n",
    "# start = time.time()\n",
    "# lda = models.ldamodel.LdaModel(corpus, num_topics=NUM_TOPICS, id2word=term_dict, passes=PASSES)\n",
    "# pp.pprint(lda.print_topics(num_topics=NUM_TOPICS, num_words=NUM_WORDS))\n",
    "# end = time.time()"
   ]
  },
  {
   "cell_type": "code",
   "execution_count": 9,
   "metadata": {
    "collapsed": true
   },
   "outputs": [],
   "source": [
    "from sklearn.feature_extraction.text import TfidfVectorizer, CountVectorizer\n",
    "from sklearn.decomposition import LatentDirichletAllocation\n",
    "from scipy import spatial\n"
   ]
  },
  {
   "cell_type": "code",
   "execution_count": 10,
   "metadata": {
    "collapsed": true
   },
   "outputs": [],
   "source": [
    "def display_topics(model, feature_names, no_top_words):\n",
    "    for topic_idx, topic in enumerate(model.components_):\n",
    "        print('Topic {}:'.format(topic_idx))\n",
    "        print(' '.join([feature_names[i] for i in topic.argsort()[:-no_top_words - 1:-1]]))\n",
    "        print('')"
   ]
  },
  {
   "cell_type": "code",
   "execution_count": 11,
   "metadata": {},
   "outputs": [
    {
     "name": "stderr",
     "output_type": "stream",
     "text": [
      "/Users/frankchan/anaconda3/lib/python3.6/site-packages/sklearn/decomposition/online_lda.py:294: DeprecationWarning: n_topics has been renamed to n_components in version 0.19 and will be removed in 0.21\n",
      "  DeprecationWarning)\n"
     ]
    },
    {
     "name": "stdout",
     "output_type": "stream",
     "text": [
      "Topic 0:\n",
      "deleted windows vim emacs factorial\n",
      "\n",
      "Topic 1:\n",
      "people like think just don\n",
      "\n",
      "Topic 2:\n",
      "oil google war video anti\n",
      "\n",
      "Topic 3:\n",
      "just like people think don\n",
      "\n",
      "Topic 4:\n",
      "http com www reddit link\n",
      "\n",
      "time elapsed: 12.142352104187012 seconds\n"
     ]
    }
   ],
   "source": [
    "NUM_TOPICS = 5\n",
    "NUM_WORDS = 5\n",
    "PASSES = 20\n",
    "\n",
    "nodes = build_nodes_set(train_data)\n",
    "threads = build_threads_set(nodes)\n",
    "thread_bodies = build_thread_bodies(threads, nodes)\n",
    "\n",
    "# train LDA model\n",
    "\n",
    "start = time.time()\n",
    "\n",
    "train = list(thread_bodies.values())\n",
    "tf_vectorizer = CountVectorizer(max_df=0.95, min_df=2, max_features=1000, stop_words='english')\n",
    "tf_train = tf_vectorizer.fit_transform(train)\n",
    "tf_feature_names = tf_vectorizer.get_feature_names()\n",
    "\n",
    "lda = LatentDirichletAllocation(n_topics=NUM_TOPICS, max_iter=PASSES, learning_method='online', learning_offset=50.,random_state=0)\n",
    "lda.fit(tf_train)\n",
    "\n",
    "display_topics(lda, tf_feature_names, NUM_WORDS)\n",
    "\n",
    "end = time.time()\n",
    "\n",
    "print('time elapsed: {} seconds'.format(end - start))"
   ]
  },
  {
   "cell_type": "code",
   "execution_count": 12,
   "metadata": {},
   "outputs": [
    {
     "name": "stdout",
     "output_type": "stream",
     "text": [
      "array([[ 0.05232976,  0.53655661,  0.05006991,  0.30852102,  0.0525227 ],\n",
      "       [ 0.00745875,  0.57534911,  0.00761521,  0.144825  ,  0.26475192],\n",
      "       [ 0.06667518,  0.72823481,  0.0710696 ,  0.06733943,  0.06668097]])\n",
      "\n",
      "A look at Vietnam and Mexico exposes the myth of market liberalisation.\n",
      "\n",
      "The site states \"What can I use it for? Meeting notes, Reports, technical specs Sign-up sheets, proposals and much more...\", just like any other new breeed of sites that want us to store everything we have on the web. And they even guarantee multiple levels of security and encryption etc. But what prevents these web site operators fom accessing and/or stealing Meeting notes, Reports, technical specs Sign-up sheets, proposals and much more, for competitive or personal gains...? I am pretty sure that most of them are honest, but what's there to prevent me from setting up a good useful site and stealing all your data? Call me paranoid - I am.\n",
      "\n",
      "Jython related topics by Frank Wierzbicki\n",
      "\n",
      "\n",
      "array([[ 0.156999  ,  0.41127412,  0.10943053,  0.25145537,  0.07084097],\n",
      "       [ 0.00691655,  0.63011907,  0.04981258,  0.00733707,  0.30581473],\n",
      "       [ 0.02222729,  0.21748446,  0.02280595,  0.71453702,  0.02294528]])\n",
      "\n",
      "This is a great reference to keep handy for all those times you hear someone name the ACLU as part of the Secular War on Christianity. Defending the right to sing \"Awesome God\" at a talent show or the right to preach on a street corner in Vegas are not exactly consistent with a conspiracy to destroy Christianity.It would be nice if some of the entries had somre more details, or at least a link to the specific case, though.\"This is a great reference to keep handy for all those times you hear someone name the ACLU as part of the Secular War on Christianity.\"....Yeah, if you want to amuse others with your gullibility in buying these examples of cynically calculated \"exceptions to the rule\". The ACLU is reprehensible.\n",
      "\n",
      "Ugh, it's dynamically scoped. I haven't worked with dynamic scoping much, but I don't envy people trying to serious work in it.Edit: Yeah, yeah, the compiled version is lexically scoped, I should have read the next line. I don't think it is a good approach, though.from the docs:&gt; \"The main differences between Lush and CLush are as follows:&gt; ...&gt; * CLush uses lexical scoping, while Lush uses dynamic variable binding (if you don't know the difference, don't worry). \"So it is lexically scoped *if* you're using Compiled Lush, otherwise it's dynamically scoped\n",
      "\n",
      "The fur's flying between Microsoft and IBM Lotus execs over who's groupware is better. Advantage: *You,* if you want to know where each group hides its best research, and how the other side debunks it.\n",
      "\n",
      "\n"
     ]
    }
   ],
   "source": [
    "# test prediction \n",
    "\n",
    "with open('reddit_2005dec.json') as file:\n",
    "    test_data = json.loads(file.read())\n",
    "\n",
    "nodes = build_nodes_set(test_data)\n",
    "threads = build_threads_set(nodes)\n",
    "thread_bodies = build_thread_bodies(threads, nodes)\n",
    "\n",
    "# comment_bodies = { node_id: node.body for (node_id, node) in nodes.items() }\n",
    "# test_set = list(comment_bodies.values())\n",
    "\n",
    "test_set = list(thread_bodies.values())\n",
    "tf_test = tf_vectorizer.fit_transform(test_set)\n",
    "predict = lda.transform(tf_test)\n",
    "\n",
    "pp.pprint(predict[:3])\n",
    "print('')\n",
    "print(test_set[0] + '\\n')\n",
    "print(test_set[1] + '\\n')\n",
    "print(test_set[2] + '\\n\\n')\n",
    "\n",
    "pp.pprint(predict[-3:])\n",
    "print('')\n",
    "print(test_set[-3] + '\\n')\n",
    "print(test_set[-2] + '\\n')\n",
    "print(test_set[-1] + '\\n\\n')"
   ]
  },
  {
   "cell_type": "code",
   "execution_count": 23,
   "metadata": {},
   "outputs": [
    {
     "name": "stdout",
     "output_type": "stream",
     "text": [
      "predictions available for 396 elements\n",
      "\n",
      "array([[ 0.05232976,  0.53655661,  0.05006991,  0.30852102,  0.0525227 ],\n",
      "       [ 0.00745875,  0.57534911,  0.00761521,  0.144825  ,  0.26475192],\n",
      "       [ 0.06667518,  0.72823481,  0.0710696 ,  0.06733943,  0.06668097],\n",
      "       ..., \n",
      "       [ 0.156999  ,  0.41127412,  0.10943053,  0.25145537,  0.07084097],\n",
      "       [ 0.00691655,  0.63011907,  0.04981258,  0.00733707,  0.30581473],\n",
      "       [ 0.02222729,  0.21748446,  0.02280595,  0.71453702,  0.02294528]])\n",
      "396\n",
      "(1980, 1980)\n"
     ]
    },
    {
     "data": {
      "text/plain": [
       "0.05232976008223008"
      ]
     },
     "execution_count": 23,
     "metadata": {},
     "output_type": "execute_result"
    }
   ],
   "source": [
    "print('predictions available for {} elements\\n'.format(len(predict)))\n",
    "pp.pprint(predict)\n",
    "\n",
    "# not sure if this is chill\n",
    "\n",
    "# I don't think this is chill. \n",
    "# The vectors seem to be flattened, at least with \n",
    "# whatever version of numpy I am using \n",
    "#                                  - Frank\n",
    "\n",
    "m, n = np.meshgrid(predict, predict)# dist_matrix = abs(m - n)"
   ]
  },
  {
   "cell_type": "code",
   "execution_count": 1,
   "metadata": {},
   "outputs": [
    {
     "ename": "NameError",
     "evalue": "name 'np' is not defined",
     "output_type": "error",
     "traceback": [
      "\u001b[0;31m---------------------------------------------------------------------------\u001b[0m",
      "\u001b[0;31mNameError\u001b[0m                                 Traceback (most recent call last)",
      "\u001b[0;32m<ipython-input-1-73c95cdeeb16>\u001b[0m in \u001b[0;36m<module>\u001b[0;34m()\u001b[0m\n\u001b[1;32m      1\u001b[0m \u001b[0;31m# Create matrix that stores cosine distances between predictions\u001b[0m\u001b[0;34m\u001b[0m\u001b[0;34m\u001b[0m\u001b[0m\n\u001b[0;32m----> 2\u001b[0;31m \u001b[0mcos_dist_matrix\u001b[0m \u001b[0;34m=\u001b[0m \u001b[0mnp\u001b[0m\u001b[0;34m.\u001b[0m\u001b[0mempty\u001b[0m\u001b[0;34m(\u001b[0m\u001b[0;34m[\u001b[0m\u001b[0mlen\u001b[0m\u001b[0;34m(\u001b[0m\u001b[0mm\u001b[0m\u001b[0;34m)\u001b[0m\u001b[0;34m,\u001b[0m \u001b[0mlen\u001b[0m\u001b[0;34m(\u001b[0m\u001b[0mn\u001b[0m\u001b[0;34m)\u001b[0m\u001b[0;34m]\u001b[0m\u001b[0;34m)\u001b[0m\u001b[0;34m\u001b[0m\u001b[0m\n\u001b[0m\u001b[1;32m      3\u001b[0m \u001b[0;32mfor\u001b[0m \u001b[0mi\u001b[0m \u001b[0;32min\u001b[0m \u001b[0mrange\u001b[0m\u001b[0;34m(\u001b[0m\u001b[0mlen\u001b[0m\u001b[0;34m(\u001b[0m\u001b[0mpredict\u001b[0m\u001b[0;34m)\u001b[0m\u001b[0;34m)\u001b[0m\u001b[0;34m:\u001b[0m\u001b[0;34m\u001b[0m\u001b[0m\n\u001b[1;32m      4\u001b[0m     \u001b[0;32mfor\u001b[0m \u001b[0mj\u001b[0m \u001b[0;32min\u001b[0m \u001b[0mrange\u001b[0m\u001b[0;34m(\u001b[0m\u001b[0mlen\u001b[0m\u001b[0;34m(\u001b[0m\u001b[0mpredict\u001b[0m\u001b[0;34m)\u001b[0m\u001b[0;34m)\u001b[0m\u001b[0;34m:\u001b[0m\u001b[0;34m\u001b[0m\u001b[0m\n\u001b[1;32m      5\u001b[0m         \u001b[0mcos_dist_matrix\u001b[0m\u001b[0;34m[\u001b[0m\u001b[0mi\u001b[0m\u001b[0;34m]\u001b[0m\u001b[0;34m[\u001b[0m\u001b[0mj\u001b[0m\u001b[0;34m]\u001b[0m \u001b[0;34m=\u001b[0m \u001b[0mspatial\u001b[0m\u001b[0;34m.\u001b[0m\u001b[0mdistance\u001b[0m\u001b[0;34m.\u001b[0m\u001b[0mcosine\u001b[0m\u001b[0;34m(\u001b[0m\u001b[0mpredict\u001b[0m\u001b[0;34m[\u001b[0m\u001b[0mi\u001b[0m\u001b[0;34m]\u001b[0m\u001b[0;34m,\u001b[0m \u001b[0mpredict\u001b[0m\u001b[0;34m[\u001b[0m\u001b[0mj\u001b[0m\u001b[0;34m]\u001b[0m\u001b[0;34m)\u001b[0m\u001b[0;34m\u001b[0m\u001b[0m\n",
      "\u001b[0;31mNameError\u001b[0m: name 'np' is not defined"
     ]
    }
   ],
   "source": [
    "# Create matrix that stores cosine distances between predictions\n",
    "# We use this because we don't care about the length of the vectors\n",
    "cos_dist_matrix = np.empty([len(m), len(n)])\n",
    "for i in range(len(predict)):\n",
    "    for j in range(len(predict)):\n",
    "        cos_dist_matrix[i][j] = spatial.distance.cosine(predict[i], predict[j])\n"
   ]
  },
  {
   "cell_type": "code",
   "execution_count": 36,
   "metadata": {},
   "outputs": [
    {
     "name": "stdout",
     "output_type": "stream",
     "text": [
      "max distance seen: 0.9688508862483559\n",
      "0 mistakes out of 156816 entries\n"
     ]
    }
   ],
   "source": [
    "# build adjacency list (lookup table)\n",
    "# ASSUMPTION: dict.keys() and dict.values() directly correspond if not modified\n",
    "\n",
    "# TODO: Change the distance threshold to be based on std dev or somehting\n",
    "DIST_THRES = 0.02\n",
    "\n",
    "# rehydrate node_ids into dist_matrix -> distance lookup table\n",
    "\n",
    "max_dist = float('-inf')\n",
    "\n",
    "dist_lookup = { node_id: {} for node_id in thread_bodies.keys() }\n",
    "for idx1, first in enumerate(list(dist_lookup.keys())):\n",
    "    for idx2, second in enumerate(list(dist_lookup.keys())):\n",
    "        dist_lookup[first][second] = 1 if cos_dist_matrix[idx1][idx2] <= DIST_THRES else 0\n",
    "        max_dist = cos_dist_matrix[idx1][idx2] if cos_dist_matrix[idx1][idx2] > max_dist else max_dist\n",
    "#         dist_lookup[first][second] = dist_matrix[idx1][idx2] # lazy eval\n",
    "\n",
    "# check\n",
    "\n",
    "mistakes = 0\n",
    "for i in dist_lookup.keys():\n",
    "    for j in dist_lookup.keys():\n",
    "        if i==j and dist_lookup[i][j] != 1:\n",
    "            mistakes += 1\n",
    "        if dist_lookup[i][j] != dist_lookup[j][i]:\n",
    "            mistakes += 1\n",
    "\n",
    "print('max distance seen: {}'.format(max_dist))\n",
    "print('{} mistakes out of {} entries'.format(mistakes, len(dist_lookup) * len(dist_lookup)))"
   ]
  },
  {
   "cell_type": "code",
   "execution_count": 37,
   "metadata": {
    "collapsed": true
   },
   "outputs": [],
   "source": [
    "import networkx as nx\n",
    "import matplotlib.pyplot as plt\n",
    "\n",
    "g = nx.Graph()\n",
    "for thread_id in thread_bodies.keys():\n",
    "    g.add_node(thread_id)\n",
    "\n",
    "for first in thread_bodies.keys():\n",
    "    for second in thread_bodies.keys():\n",
    "        if not g.has_edge(first, second) and dist_lookup[first][second] == 1:\n",
    "            g.add_edge(first, second)\n",
    "\n",
    "# start = time.time()\n",
    "# nx.draw(g)\n",
    "# plt.show()\n",
    "# end = time.time()\n",
    "\n",
    "\n",
    "# print('time elapsed: {} seconds'.format(end - start))"
   ]
  },
  {
   "cell_type": "code",
   "execution_count": 38,
   "metadata": {},
   "outputs": [
    {
     "name": "stdout",
     "output_type": "stream",
     "text": [
      "False\n",
      "Name: \n",
      "Type: Graph\n",
      "Number of nodes: 396\n",
      "Number of edges: 5258\n",
      "Average degree:  26.5556\n"
     ]
    }
   ],
   "source": [
    "print(nx.is_connected(g))\n",
    "degs = nx.degree_histogram(g)\n",
    "# plt.hist(degs, normed=True, bins=len(degs))\n",
    "# nx.density(g)\n",
    "print(nx.info(g))"
   ]
  },
  {
   "cell_type": "code",
   "execution_count": 39,
   "metadata": {},
   "outputs": [
    {
     "data": {
      "image/png": "[encoded data removed]",
      "text/plain": [
       "<matplotlib.figure.Figure at 0x1a233a78d0>"
      ]
     },
     "metadata": {},
     "output_type": "display_data"
    }
   ],
   "source": [
    "# visualize network\n",
    "\n",
    "nx.draw(g)\n",
    "# nx.draw_random(gr)\n",
    "# nx.draw_circular(gr)\n",
    "# nx.draw_spectral(gr)\n",
    "# nx.draw(g, **{\n",
    "#     'with_labels': False,\n",
    "#     'node_size': 10,\n",
    "#     'node_color': 'teal',\n",
    "#     'alpha': 0.3,\n",
    "# })\n",
    "plt.axis('off')\n",
    "# plt.savefig('graph.pdf', dpi=1000)\n",
    "nx.write_graphml(g, 'topic_relevance.graphml')\n",
    "plt.show()"
   ]
  },
  {
   "cell_type": "code",
   "execution_count": null,
   "metadata": {
    "collapsed": true
   },
   "outputs": [],
   "source": [
    "# dump network\n",
    "\n"
   ]
  }
 ],
 "metadata": {
  "kernelspec": {
   "display_name": "Python 3",
   "language": "python",
   "name": "python3"
  },
  "language_info": {
   "codemirror_mode": {
    "name": "ipython",
    "version": 3
   },
   "file_extension": ".py",
   "mimetype": "text/x-python",
   "name": "python",
   "nbconvert_exporter": "python",
   "pygments_lexer": "ipython3",
   "version": "3.6.3"
  }
 },
 "nbformat": 4,
 "nbformat_minor": 2
}
