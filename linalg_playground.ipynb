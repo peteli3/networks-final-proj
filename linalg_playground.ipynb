{
 "cells": [
  {
   "cell_type": "code",
   "execution_count": 1,
   "metadata": {},
   "outputs": [],
   "source": [
    "import numpy as np"
   ]
  },
  {
   "cell_type": "code",
   "execution_count": 3,
   "metadata": {},
   "outputs": [
    {
     "name": "stdout",
     "output_type": "stream",
     "text": [
      "[ 1.41421356 -1.41421356  0.        ]\n",
      "\n",
      "[[ 7.07106781e-01  7.07106781e-01  1.54074396e-33]\n",
      " [ 5.00000000e-01 -5.00000000e-01 -7.07106781e-01]\n",
      " [ 5.00000000e-01 -5.00000000e-01  7.07106781e-01]]\n"
     ]
    }
   ],
   "source": [
    "a = np.array([[0, 1, 1], [1, 0, 0], [1, 0, 0]])\n",
    "w, v = np.linalg.eig(a)\n",
    "print(w)\n",
    "print('')\n",
    "print(v)"
   ]
  },
  {
   "cell_type": "code",
   "execution_count": null,
   "metadata": {},
   "outputs": [],
   "source": []
  }
 ],
 "metadata": {
  "kernelspec": {
   "display_name": "Python 3",
   "language": "python",
   "name": "python3"
  },
  "language_info": {
   "codemirror_mode": {
    "name": "ipython",
    "version": 3
   },
   "file_extension": ".py",
   "mimetype": "text/x-python",
   "name": "python",
   "nbconvert_exporter": "python",
   "pygments_lexer": "ipython3",
   "version": "3.6.4"
  }
 },
 "nbformat": 4,
 "nbformat_minor": 2
}
