{
 "cells": [
  {
   "cell_type": "code",
   "execution_count": 66,
   "metadata": {},
   "outputs": [],
   "source": [
    "import json\n",
    "import pprint\n",
    "\n",
    "# dataset source\n",
    "# https://files.pushshift.io/reddit/comments/\n",
    "\n",
    "# DATASET_FILE = 'rc_2005dec_data'\n",
    "DATASET_FILE = 'reddit_2006jan.json'\n",
    "\n",
    "QUERY_SUBREDDIT = 'reddit.com'\n",
    "pp = pprint.PrettyPrinter(indent=4)"
   ]
  },
  {
   "cell_type": "code",
   "execution_count": 101,
   "metadata": {},
   "outputs": [],
   "source": [
    "ID = 'id'\n",
    "BODY = 'body'\n",
    "SCORE = 'score'\n",
    "PARENT = 'parent_id'\n",
    "LINK = 'link_id'"
   ]
  },
  {
   "cell_type": "code",
   "execution_count": 85,
   "metadata": {},
   "outputs": [
    {
     "name": "stdout",
     "output_type": "stream",
     "text": [
      "3666\n",
      "{   'author': 'jh99',\n",
      "    'author_flair_css_class': None,\n",
      "    'author_flair_text': None,\n",
      "    'body': 'early 2006 a probable date',\n",
      "    'controversiality': 0,\n",
      "    'created_utc': 1136074029,\n",
      "    'distinguished': None,\n",
      "    'edited': False,\n",
      "    'gilded': 0,\n",
      "    'id': 'c2715',\n",
      "    'link_id': 't3_22569',\n",
      "    'parent_id': 't3_22569',\n",
      "    'retrieved_on': 1473821517,\n",
      "    'score': 0,\n",
      "    'stickied': False,\n",
      "    'subreddit': 'reddit.com',\n",
      "    'subreddit_id': 't5_6',\n",
      "    'ups': 0}\n"
     ]
    }
   ],
   "source": [
    "# read json\n",
    "with open(DATASET_FILE) as file:\n",
    "    data = json.loads(file.read())\n",
    "    \n",
    "print(len(data))\n",
    "pp.pprint(data[0])"
   ]
  },
  {
   "cell_type": "code",
   "execution_count": 86,
   "metadata": {},
   "outputs": [
    {
     "name": "stdout",
     "output_type": "stream",
     "text": [
      "3664 results for query on subreddit: reddit.com\n"
     ]
    }
   ],
   "source": [
    "# filter posts by subreddit\n",
    "data = [post for post in data if post['subreddit'] == QUERY_SUBREDDIT]\n",
    "print('{} results for query on subreddit: {}'.format(len(data), QUERY_SUBREDDIT))"
   ]
  },
  {
   "cell_type": "code",
   "execution_count": 102,
   "metadata": {},
   "outputs": [
    {
     "name": "stdout",
     "output_type": "stream",
     "text": [
      "0 entries without id\n",
      "0 entries without body\n",
      "0 entries without parent\n",
      "0 entries without link\n"
     ]
    }
   ],
   "source": [
    "# count up degenerate entries\n",
    "no_id = [post for post in data if not ID in post]\n",
    "print('{} entries without id'.format(len(no_id)))\n",
    "\n",
    "no_body = [post for post in data if not BODY in post]\n",
    "print('{} entries without body'.format(len(no_body)))\n",
    "\n",
    "no_parent = [post for post in data if not PARENT in post]\n",
    "print('{} entries without parent'.format(len(no_parent)))\n",
    "\n",
    "no_link = [post for post in data if not LINK in post]\n",
    "print('{} entries without link'.format(len(no_link)))"
   ]
  },
  {
   "cell_type": "code",
   "execution_count": 103,
   "metadata": {},
   "outputs": [],
   "source": [
    "class Node(object):\n",
    "    def __init__(self, body, score, parent, link):\n",
    "        self.body = body\n",
    "        self.score = score\n",
    "        self.parent = parent\n",
    "        self.link = link"
   ]
  },
  {
   "cell_type": "code",
   "execution_count": 104,
   "metadata": {},
   "outputs": [],
   "source": [
    "# build nodes\n",
    "nodes = dict() # post_id: Node Object\n",
    "for post in data:\n",
    "    nodes[post[ID]] = Node(post[BODY], post[SCORE], post[PARENT], post[LINK])"
   ]
  },
  {
   "cell_type": "code",
   "execution_count": 107,
   "metadata": {},
   "outputs": [],
   "source": [
    "# build threads (posts arranged by link_id)\n",
    "threads = dict() # link_id: [post_ids]\n",
    "for post_id in nodes.keys():\n",
    "    thread_id = nodes[post_id].link\n",
    "    if thread_id in threads.keys():\n",
    "        threads[thread_id].append(post_id)\n",
    "    else:\n",
    "        threads[thread_id] = [post_id]"
   ]
  },
  {
   "cell_type": "code",
   "execution_count": 97,
   "metadata": {},
   "outputs": [],
   "source": [
    "# assign topic score to each node"
   ]
  },
  {
   "cell_type": "code",
   "execution_count": 98,
   "metadata": {},
   "outputs": [],
   "source": [
    "# build adjacency list"
   ]
  },
  {
   "cell_type": "code",
   "execution_count": 99,
   "metadata": {},
   "outputs": [],
   "source": [
    "# visualize network"
   ]
  },
  {
   "cell_type": "code",
   "execution_count": 100,
   "metadata": {},
   "outputs": [],
   "source": [
    "# dump network"
   ]
  }
 ],
 "metadata": {
  "kernelspec": {
   "display_name": "Python 3",
   "language": "python",
   "name": "python3"
  },
  "language_info": {
   "codemirror_mode": {
    "name": "ipython",
    "version": 3
   },
   "file_extension": ".py",
   "mimetype": "text/x-python",
   "name": "python",
   "nbconvert_exporter": "python",
   "pygments_lexer": "ipython3",
   "version": "3.6.4"
  }
 },
 "nbformat": 4,
 "nbformat_minor": 2
}
