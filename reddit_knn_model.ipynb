{
 "cells": [
  {
   "cell_type": "code",
   "execution_count": 1,
   "metadata": {},
   "outputs": [],
   "source": [
    "import json\n",
    "import pprint\n",
    "import pickle\n",
    "from math import log\n",
    "\n",
    "# Get the RedditThread class from process.py\n",
    "from process import RedditThread\n",
    "\n",
    "# dataset source\n",
    "# https://files.pushshift.io/reddit/comments/\n",
    "pp = pprint.PrettyPrinter(indent=4)"
   ]
  },
  {
   "cell_type": "code",
   "execution_count": 2,
   "metadata": {},
   "outputs": [],
   "source": [
    "politicsSubreddit = dict()\n",
    "with open('lgbt.pkl', 'rb') as politics:\n",
    "    politicsSubreddit = pickle.load(politics)"
   ]
  },
  {
   "cell_type": "code",
   "execution_count": 3,
   "metadata": {},
   "outputs": [],
   "source": [
    "# builda dict of thread bodies by link_id\n",
    "\n",
    "def build_thread_bodies(threads):\n",
    "    thread_bodies = dict() # link_id: 'str w/ all comment text'\n",
    "    to_delete = []\n",
    "    for link_id in threads.keys():\n",
    "        thread_bodies[link_id] = threads[link_id].body\n",
    "            \n",
    "        # PARSE RULES #\n",
    "        thread_bodies[link_id] = thread_bodies[link_id].strip()\n",
    "        thread_bodies[link_id] = thread_bodies[link_id].lower()\n",
    "        thread_bodies[link_id] = thread_bodies[link_id].replace('\\r\\n\\r\\n', ' ')\n",
    "        thread_bodies[link_id] = thread_bodies[link_id].replace('&gt;', '')\n",
    "        thread_bodies[link_id] = thread_bodies[link_id].replace('\\r', '')\n",
    "        thread_bodies[link_id] = thread_bodies[link_id].replace('\\n', '')\n",
    "        \n",
    "        if thread_bodies[link_id] == '[deleted]':\n",
    "            to_delete.append(link_id)\n",
    "    \n",
    "    for link_id in to_delete:\n",
    "        thread_bodies.pop(link_id, None)\n",
    "        \n",
    "    return thread_bodies"
   ]
  },
  {
   "cell_type": "code",
   "execution_count": 4,
   "metadata": {},
   "outputs": [],
   "source": [
    "from nltk.tokenize import RegexpTokenizer\n",
    "from nltk.stem.porter import PorterStemmer\n",
    "from gensim import corpora, models\n",
    "\n",
    "import numpy as np\n",
    "import time\n",
    "\n",
    "from sklearn.feature_extraction.text import TfidfVectorizer, CountVectorizer\n",
    "from sklearn.decomposition import LatentDirichletAllocation\n",
    "from sklearn.metrics.pairwise import cosine_distances\n",
    "from scipy import spatial"
   ]
  },
  {
   "cell_type": "code",
   "execution_count": 5,
   "metadata": {},
   "outputs": [],
   "source": [
    "def display_topics(model, feature_names, no_top_words):\n",
    "    for topic_idx, topic in enumerate(model.components_):\n",
    "        print('Topic {}:'.format(topic_idx))\n",
    "        print(' '.join([feature_names[i] for i in topic.argsort()[:-no_top_words - 1:-1]]))\n",
    "        print('')"
   ]
  },
  {
   "cell_type": "code",
   "execution_count": 6,
   "metadata": {},
   "outputs": [
    {
     "name": "stdout",
     "output_type": "stream",
     "text": [
      "Topic 0:\n",
      "gender woman male boyfriend really\n",
      "\n",
      "Topic 1:\n",
      "group sex men women know\n",
      "\n",
      "Topic 2:\n",
      "rick lot god real mean\n",
      "\n",
      "Topic 3:\n",
      "sex wouldn sexuality men simply\n",
      "\n",
      "Topic 4:\n",
      "gay did community coming things\n",
      "\n",
      "time elapsed: 0.10350680351257324 seconds\n"
     ]
    },
    {
     "name": "stderr",
     "output_type": "stream",
     "text": [
      "/Users/Peterli/anaconda3/lib/python3.6/site-packages/sklearn/decomposition/online_lda.py:294: DeprecationWarning: n_topics has been renamed to n_components in version 0.19 and will be removed in 0.21\n",
      "  DeprecationWarning)\n"
     ]
    }
   ],
   "source": [
    "from sklearn.feature_extraction import text \n",
    "\n",
    "sw = text.ENGLISH_STOP_WORDS.union(['http', 'deleted', 'com', 'people', 'don', 'just', 'think', 'like'])\n",
    "\n",
    "NUM_TOPICS = 5\n",
    "NUM_WORDS = 5\n",
    "PASSES = 20\n",
    "\n",
    "thread_bodies = build_thread_bodies(politicsSubreddit)\n",
    "\n",
    "# train LDA model\n",
    "\n",
    "start = time.time()\n",
    "\n",
    "train = list(thread_bodies.values())\n",
    "tf_vectorizer = CountVectorizer(max_df=0.95, min_df=2, max_features=1000, stop_words=sw)\n",
    "tf_train = tf_vectorizer.fit_transform(train)\n",
    "tf_feature_names = tf_vectorizer.get_feature_names()\n",
    "\n",
    "lda = LatentDirichletAllocation(\n",
    "    n_topics=NUM_TOPICS, \n",
    "    max_iter=PASSES, \n",
    "    learning_method='online', \n",
    "    learning_offset=50., \n",
    "    random_state=0\n",
    ")\n",
    "lda.fit(tf_train)\n",
    "\n",
    "display_topics(lda, tf_feature_names, NUM_WORDS)\n",
    "\n",
    "end = time.time()\n",
    "\n",
    "print('time elapsed: {} seconds'.format(end - start))"
   ]
  },
  {
   "cell_type": "code",
   "execution_count": 7,
   "metadata": {},
   "outputs": [],
   "source": [
    "test_set = list(thread_bodies.values())\n",
    "tf_test = tf_vectorizer.fit_transform(test_set)\n",
    "predict = lda.transform(tf_test)"
   ]
  },
  {
   "cell_type": "code",
   "execution_count": 8,
   "metadata": {},
   "outputs": [
    {
     "name": "stdout",
     "output_type": "stream",
     "text": [
      "predictions available for 16 elements\n",
      "\n",
      "array([[1.08288707e-03, 9.95656994e-01, 1.08327076e-03, 1.08394398e-03,\n",
      "        1.09290407e-03],\n",
      "       [2.83089681e-04, 9.98864564e-01, 2.83203013e-04, 2.82645185e-04,\n",
      "        2.86498212e-04],\n",
      "       [9.59779741e-04, 9.74648530e-04, 9.60140469e-04, 9.58082674e-04,\n",
      "        9.96147349e-01],\n",
      "       [1.84980391e-03, 1.87615820e-03, 1.85161342e-03, 1.84788618e-03,\n",
      "        9.92574538e-01],\n",
      "       [2.42743450e-03, 9.90264516e-01, 2.42577533e-03, 2.42609712e-03,\n",
      "        2.45617705e-03],\n",
      "       [8.09492151e-03, 8.12765989e-03, 8.09044775e-03, 8.05595192e-03,\n",
      "        9.67631019e-01],\n",
      "       [4.26123053e-04, 9.98298072e-01, 4.24528027e-04, 4.24184261e-04,\n",
      "        4.27092277e-04],\n",
      "       [4.50047627e-03, 9.81927843e-01, 4.50186803e-03, 4.49613379e-03,\n",
      "        4.57367917e-03],\n",
      "       [7.80012869e-03, 9.68797277e-01, 7.78156709e-03, 7.76414664e-03,\n",
      "        7.85688071e-03],\n",
      "       [9.83194888e-01, 4.22712551e-03, 4.18694773e-03, 4.18347958e-03,\n",
      "        4.20755951e-03],\n",
      "       [3.34230541e-02, 8.66108056e-01, 3.34929220e-02, 3.34671781e-02,\n",
      "        3.35087902e-02],\n",
      "       [2.58673938e-03, 3.31818180e-01, 6.60394911e-01, 2.58093075e-03,\n",
      "        2.61923921e-03],\n",
      "       [5.93000114e-03, 6.01589703e-03, 5.91560402e-03, 5.92005725e-03,\n",
      "        9.76218441e-01],\n",
      "       [3.34624669e-02, 3.40728579e-02, 8.63821533e-01, 3.35039781e-02,\n",
      "        3.51391637e-02],\n",
      "       [3.34291901e-02, 3.37866772e-02, 8.65856971e-01, 3.34607424e-02,\n",
      "        3.34664189e-02],\n",
      "       [2.02409770e-02, 9.19193400e-01, 2.01531901e-02, 2.01322359e-02,\n",
      "        2.02801969e-02]])\n"
     ]
    }
   ],
   "source": [
    "print('predictions available for {} elements\\n'.format(len(predict)))\n",
    "pp.pprint(predict)"
   ]
  },
  {
   "cell_type": "code",
   "execution_count": 9,
   "metadata": {},
   "outputs": [
    {
     "name": "stdout",
     "output_type": "stream",
     "text": [
      "time elapsed: 0.0008130073547363281 seconds\n"
     ]
    }
   ],
   "source": [
    "# Create matrix that stores cosine distances between predictions\n",
    "# We use this because we don't care about the length of the vectors\n",
    "start = time.time()\n",
    "\n",
    "cos_dist_matrix = cosine_distances(predict, predict)\n",
    "\n",
    "end = time.time()\n",
    "\n",
    "print('time elapsed: {} seconds'.format(end - start))"
   ]
  },
  {
   "cell_type": "code",
   "execution_count": 10,
   "metadata": {},
   "outputs": [
    {
     "name": "stdout",
     "output_type": "stream",
     "text": [
      "0.09110877218488601\n"
     ]
    }
   ],
   "source": [
    "# Calculate the distance threshold we should use\n",
    "# Currently std is really high and makes our graph very crowded\n",
    "# What is a good way to do this\n",
    "DIST_THRES = np.std(cos_dist_matrix) / 5\n",
    "print(DIST_THRES)"
   ]
  },
  {
   "cell_type": "code",
   "execution_count": 11,
   "metadata": {},
   "outputs": [
    {
     "name": "stdout",
     "output_type": "stream",
     "text": [
      "max distance seen: 0.998733942160446 for t3_akk2t and t3_ak9g8\n",
      "0 mistakes out of 256 entries\n",
      "time elapsed: 0.0007150173187255859 seconds\n"
     ]
    }
   ],
   "source": [
    "# ASSUMPTION: dict.keys() and dict.values() directly correspond if not modified\n",
    "# rehydrate node_ids into dist_matrix -> distance lookup table\n",
    "\n",
    "max_dist = float('-inf')\n",
    "max_first, max_second = (None, None)\n",
    "\n",
    "start = time.time()\n",
    "\n",
    "dist_lookup = { node_id: {} for node_id in thread_bodies.keys() }\n",
    "for idx1, first in enumerate(list(dist_lookup.keys())):\n",
    "    for idx2, second in enumerate(list(dist_lookup.keys())):\n",
    "        if cos_dist_matrix[idx1][idx2] > max_dist:\n",
    "            max_dist = cos_dist_matrix[idx1][idx2]\n",
    "            max_first, max_second = first, second\n",
    "        dist_lookup[first][second] = cos_dist_matrix[idx1][idx2] # lazy eval\n",
    "\n",
    "# check\n",
    "\n",
    "mistakes = 0\n",
    "for i in dist_lookup.keys():\n",
    "    for j in dist_lookup.keys():\n",
    "        if i==j and dist_lookup[i][j] != 0:\n",
    "            print('something is off about dist_lookup[{}][{}] value {}'.format(i,j,dist_lookup[i][j]))\n",
    "            mistakes += 1\n",
    "        if dist_lookup[i][j] != dist_lookup[j][i]:\n",
    "            mistakes += 1\n",
    "\n",
    "end = time.time()\n",
    "\n",
    "print('max distance seen: {} for {} and {}'.format(max_dist, max_first, max_second))\n",
    "print('{} mistakes out of {} entries'.format(mistakes, len(dist_lookup) * len(dist_lookup)))\n",
    "print('time elapsed: {} seconds'.format(end - start)) # 3mins to run on average"
   ]
  },
  {
   "cell_type": "code",
   "execution_count": 12,
   "metadata": {},
   "outputs": [
    {
     "name": "stdout",
     "output_type": "stream",
     "text": [
      "time elapsed: 0.00041484832763671875 seconds\n"
     ]
    }
   ],
   "source": [
    "import networkx as nx\n",
    "import matplotlib.pyplot as plt\n",
    "\n",
    "k = 4\n",
    "\n",
    "# construct network\n",
    "\n",
    "start = time.time()\n",
    "\n",
    "g = nx.Graph()\n",
    "for thread_id in thread_bodies.keys():\n",
    "    g.add_node(thread_id)\n",
    "\n",
    "for first in thread_bodies.keys():\n",
    "    dists_from_first = dist_lookup[first].items()\n",
    "    sorted_dists_from_first = sorted([i for i in dists_from_first if i[1] > 0], key=lambda x: x[1])\n",
    "    for (second, dist) in sorted_dists_from_first[:k]:\n",
    "        if not g.has_edge(first, second):\n",
    "            g.add_edge(first, second)\n",
    "\n",
    "end = time.time()\n",
    "print('time elapsed: {} seconds'.format(end - start))"
   ]
  },
  {
   "cell_type": "code",
   "execution_count": 13,
   "metadata": {},
   "outputs": [
    {
     "name": "stdout",
     "output_type": "stream",
     "text": [
      "True\n",
      "Name: \n",
      "Type: Graph\n",
      "Number of nodes: 16\n",
      "Number of edges: 44\n",
      "Average degree:   5.5000\n"
     ]
    }
   ],
   "source": [
    "print(nx.is_connected(g))\n",
    "degs = nx.degree_histogram(g)\n",
    "# plt.hist(degs, normed=True, bins=len(degs))\n",
    "# nx.density(g)\n",
    "print(nx.info(g))"
   ]
  },
  {
   "cell_type": "code",
   "execution_count": 14,
   "metadata": {},
   "outputs": [],
   "source": [
    "def save_and_show_visualization(g, file_name):\n",
    "    plt.figure(figsize=(18,18))\n",
    "    degrees = dict(nx.degree(g))\n",
    "    \n",
    "    spring_pos = nx.spectral_layout(g)\n",
    "    \n",
    "    # Draw networkx graph -- scale node size by log(degree+1)\n",
    "    nx.draw_networkx(g,\n",
    "                   pos=spring_pos,\n",
    "                   with_labels=False, \n",
    "                   linewidths=2.0,\n",
    "                   nodelist=degrees.keys(),\n",
    "                   node_size=[log(degree_val+1) * 100 for degree_val in degrees.values()], \\\n",
    "                   node_color='r')\n",
    "    \n",
    "    # Create black border around node shapes\n",
    "    ax = plt.gca()\n",
    "    ax.collections[0].set_edgecolor(\"#000000\")\n",
    "\n",
    "    # Save and show figure, then clear figure\n",
    "    plt.savefig(file_name)\n",
    "    plt.show()\n",
    "    plt.clf()"
   ]
  },
  {
   "cell_type": "code",
   "execution_count": 15,
   "metadata": {},
   "outputs": [
    {
     "data": {
      "image/png": "[encoded data removed]",
      "text/plain": [
       "<matplotlib.figure.Figure at 0x1a18931a90>"
      ]
     },
     "metadata": {},
     "output_type": "display_data"
    },
    {
     "name": "stdout",
     "output_type": "stream",
     "text": [
      "time elapsed: 0.34380102157592773 seconds\n"
     ]
    },
    {
     "data": {
      "text/plain": [
       "<matplotlib.figure.Figure at 0x1a18be12e8>"
      ]
     },
     "metadata": {},
     "output_type": "display_data"
    }
   ],
   "source": [
    "# visualize network\n",
    "start = time.time()\n",
    "save_and_show_visualization(g, \"politics.pdf\")\n",
    "end = time.time()\n",
    "print('time elapsed: {} seconds'.format(end - start))"
   ]
  },
  {
   "cell_type": "code",
   "execution_count": 16,
   "metadata": {},
   "outputs": [],
   "source": [
    "from numpy.linalg import eigvals\n",
    "egnvals = sorted(eigvals(nx.normalized_laplacian_matrix(g).A))\n",
    "second_egnval = egnvals[1]"
   ]
  },
  {
   "cell_type": "code",
   "execution_count": 17,
   "metadata": {},
   "outputs": [
    {
     "name": "stdout",
     "output_type": "stream",
     "text": [
      "0.060574327029102315\n",
      "0.12114865405820463\n",
      "4\n",
      "t3_akk2t t3_ak9g8\n"
     ]
    }
   ],
   "source": [
    "print(second_egnval/2)\n",
    "print(second_egnval)\n",
    "print(nx.shortest_path_length(g, max_first, max_second))\n",
    "print(max_first, max_second)"
   ]
  },
  {
   "cell_type": "code",
   "execution_count": 18,
   "metadata": {},
   "outputs": [
    {
     "name": "stdout",
     "output_type": "stream",
     "text": [
      "1.0666666666666655\n"
     ]
    }
   ],
   "source": [
    "# DONT RUN ME TOO MUCH, TAKES ~20MINS\n",
    "\n",
    "complete_n = nx.complete_graph(len(set(g.nodes)))\n",
    "egnvals_complete = sorted(eigvals(nx.normalized_laplacian_matrix(complete_n).A))\n",
    "print(egnvals_complete[1])"
   ]
  },
  {
   "cell_type": "code",
   "execution_count": 19,
   "metadata": {},
   "outputs": [
    {
     "data": {
      "text/plain": [
       "4"
      ]
     },
     "execution_count": 19,
     "metadata": {},
     "output_type": "execute_result"
    }
   ],
   "source": [
    "nx.diameter(g)"
   ]
  },
  {
   "cell_type": "code",
   "execution_count": 20,
   "metadata": {},
   "outputs": [
    {
     "name": "stdout",
     "output_type": "stream",
     "text": [
      "0.02839421579489174\n"
     ]
    }
   ],
   "source": [
    "closeness = (1/nx.shortest_path_length(g, max_first, max_second)) * ((second_egnval*0.5) / (egnvals_complete[1]*0.5))\n",
    "print(closeness)"
   ]
  }
 ],
 "metadata": {
  "kernelspec": {
   "display_name": "Python 3",
   "language": "python",
   "name": "python3"
  },
  "language_info": {
   "codemirror_mode": {
    "name": "ipython",
    "version": 3
   },
   "file_extension": ".py",
   "mimetype": "text/x-python",
   "name": "python",
   "nbconvert_exporter": "python",
   "pygments_lexer": "ipython3",
   "version": "3.6.4"
  }
 },
 "nbformat": 4,
 "nbformat_minor": 2
}
